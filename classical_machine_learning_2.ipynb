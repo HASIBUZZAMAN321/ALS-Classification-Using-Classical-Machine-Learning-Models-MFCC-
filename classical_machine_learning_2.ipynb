{
 "cells": [
  {
   "cell_type": "code",
   "execution_count": 1,
   "id": "initial_id",
   "metadata": {
    "ExecuteTime": {
     "end_time": "2023-12-15T00:22:27.995435629Z",
     "start_time": "2023-12-15T00:22:27.889179424Z"
    },
    "collapsed": true
   },
   "outputs": [],
   "source": [
    "import numpy as np\n",
    "import pandas as pd\n",
    "import os\n",
    "import re\n",
    "import warnings\n",
    "import matplotlib.pyplot as plt\n",
    "import seaborn as sns\n",
    "import librosa\n",
    "import IPython.display as ipd\n",
    "from tqdm import tqdm"
   ]
  },
  {
   "cell_type": "code",
   "execution_count": 2,
   "id": "ee6ac469236def87",
   "metadata": {
    "ExecuteTime": {
     "end_time": "2023-12-15T00:22:29.620489013Z",
     "start_time": "2023-12-15T00:22:27.996949832Z"
    }
   },
   "outputs": [],
   "source": [
    "from hnr import *\n",
    "from jitters import *\n",
    "from shimmers import *\n",
    "from sound import Waveform"
   ]
  },
  {
   "cell_type": "code",
   "execution_count": 3,
   "id": "c302459a45f09a45",
   "metadata": {
    "ExecuteTime": {
     "end_time": "2023-12-15T00:22:29.861914393Z",
     "start_time": "2023-12-15T00:22:29.622764319Z"
    }
   },
   "outputs": [],
   "source": [
    "from sklearn.model_selection import cross_validate\n",
    "from sklearn.ensemble import RandomForestClassifier\n",
    "from sklearn.linear_model import LogisticRegression\n",
    "from sklearn.discriminant_analysis import LinearDiscriminantAnalysis\n",
    "from sklearn.neural_network import MLPClassifier\n",
    "from sklearn.svm import SVC\n",
    "from sklearn.utils import shuffle\n",
    "from sklearn.metrics import make_scorer, accuracy_score, precision_score, recall_score, f1_score\n",
    "from mlxtend.plotting import plot_confusion_matrix\n",
    "from sklearn.metrics import confusion_matrix"
   ]
  },
  {
   "cell_type": "code",
   "execution_count": 4,
   "id": "726c05a90c4a8a5",
   "metadata": {
    "ExecuteTime": {
     "end_time": "2023-12-15T00:22:29.868776042Z",
     "start_time": "2023-12-15T00:22:29.865402198Z"
    }
   },
   "outputs": [],
   "source": [
    "data_path = \"/home/bmis/Documents/AI-Workspace/ALS/bmis_data/All\"\n",
    "\n",
    "control_path = 'Control'\n",
    "als_with_dysarthria_path = 'ALSwDysarthria'\n",
    "als_without_dysarthria_path = 'ALSwoDysarthria'\n",
    "\n",
    "control_dir = os.path.join(data_path, control_path)\n",
    "control = os.listdir(control_dir)[0]\n",
    "\n",
    "als_with_dir = os.path.join(data_path, als_with_dysarthria_path)\n",
    "als_with_dys = os.listdir(als_with_dir)[1]\n",
    "\n",
    "als_without_dir = os.path.join(data_path, als_without_dysarthria_path)\n",
    "als_without_dys = os.listdir(als_without_dir)[1]"
   ]
  },
  {
   "cell_type": "code",
   "execution_count": 5,
   "id": "f2503df207b71148",
   "metadata": {
    "ExecuteTime": {
     "end_time": "2023-12-15T00:22:29.952976796Z",
     "start_time": "2023-12-15T00:22:29.872995327Z"
    }
   },
   "outputs": [],
   "source": [
    "def extract_td_feature(audio_path):\n",
    "    td_features = []\n",
    "    _, sample_rate = librosa.load(audio_path)\n",
    "    #print(audio_path)\n",
    "    sound = Waveform(path=audio_path, sample_rate=sample_rate)\n",
    "\n",
    "    td_features.append(sound.jitters()['localabsoluteJitter'])\n",
    "    td_features.append(sound.jitters()['localJitter'])\n",
    "    td_features.append(sound.jitters()['rapJitter'])\n",
    "    td_features.append(sound.jitters()['ppq5Jitter'])\n",
    "\n",
    "    td_features.append(sound.shimmers()['localShimmer'])\n",
    "    td_features.append(sound.shimmers()['localdbShimmer'])\n",
    "    td_features.append(sound.shimmers()['apq3Shimmer'])\n",
    "    td_features.append(sound.shimmers()['apq5Shimmer'])\n",
    "    td_features.append(sound.shimmers()['apq11Shimmer'])\n",
    "\n",
    "    _ =(sound.hnr())\n",
    "    hnr = sound.hnr()\n",
    "    td_features.append(hnr)\n",
    "\n",
    "    return np.array(td_features)\n",
    "\n",
    "def get_all_td_features(data_path, label):\n",
    "    data = []\n",
    "    labels = []\n",
    "\n",
    "    for file in tqdm(os.listdir(data_path)):\n",
    "        #print(f'loading file: {file}')\n",
    "        try:\n",
    "            feature = extract_td_feature(os.path.join(data_path, file))\n",
    "            data.append(feature)\n",
    "            labels.append(label)\n",
    "        except:\n",
    "            print(\"Error encountered while parsing file: \", file)\n",
    "            continue\n",
    "    return data, labels"
   ]
  },
  {
   "cell_type": "markdown",
   "id": "2bc312f51a87b2cd",
   "metadata": {},
   "source": [
    "## 2 Class Classification"
   ]
  },
  {
   "cell_type": "code",
   "execution_count": 6,
   "id": "c1a008940ec930ac",
   "metadata": {
    "ExecuteTime": {
     "end_time": "2023-12-15T00:31:51.283687274Z",
     "start_time": "2023-12-15T00:22:29.957093950Z"
    }
   },
   "outputs": [
    {
     "name": "stderr",
     "output_type": "stream",
     "text": [
      "  0%|          | 0/199 [00:00<?, ?it/s]/home/bmis/Documents/AI-Workspace/ALS/bmis_data/code/hnr.py:81: RuntimeWarning: invalid value encountered in divide\n",
      "  r_x = ffts_outputs[0] / ffts_outputs[1]\n",
      " 12%|█▏        | 24/199 [00:19<01:43,  1.69it/s]/home/bmis/Documents/AI-Workspace/ALS/bmis_data/code/hnr.py:81: RuntimeWarning: divide by zero encountered in divide\n",
      "  r_x = ffts_outputs[0] / ffts_outputs[1]\n",
      "/home/bmis/anaconda3/envs/tf/lib/python3.9/site-packages/numpy/lib/function_base.py:1452: RuntimeWarning: invalid value encountered in subtract\n",
      "  a = op(a[slice1], a[slice2])\n",
      " 83%|████████▎ | 166/199 [01:44<00:24,  1.37it/s]/home/bmis/anaconda3/envs/tf/lib/python3.9/site-packages/numpy/core/fromnumeric.py:3504: RuntimeWarning: Mean of empty slice.\n",
      "  return _methods._mean(a, axis=axis, dtype=dtype,\n",
      "/home/bmis/anaconda3/envs/tf/lib/python3.9/site-packages/numpy/core/_methods.py:129: RuntimeWarning: invalid value encountered in scalar divide\n",
      "  ret = ret.dtype.type(ret / rcount)\n",
      "/home/bmis/anaconda3/envs/tf/lib/python3.9/site-packages/numpy/core/_methods.py:206: RuntimeWarning: Degrees of freedom <= 0 for slice\n",
      "  ret = _var(a, axis=axis, dtype=dtype, out=out, ddof=ddof,\n",
      "/home/bmis/anaconda3/envs/tf/lib/python3.9/site-packages/numpy/core/_methods.py:163: RuntimeWarning: invalid value encountered in divide\n",
      "  arrmean = um.true_divide(arrmean, div, out=arrmean,\n",
      "/home/bmis/anaconda3/envs/tf/lib/python3.9/site-packages/numpy/core/_methods.py:198: RuntimeWarning: invalid value encountered in scalar divide\n",
      "  ret = ret.dtype.type(ret / rcount)\n",
      " 85%|████████▌ | 170/199 [01:46<00:17,  1.63it/s]/home/bmis/anaconda3/envs/tf/lib/python3.9/site-packages/peakutils/peak.py:43: RuntimeWarning: invalid value encountered in scalar add\n",
      "  thres = thres * (np.max(y) - np.min(y)) + np.min(y)\n",
      "100%|██████████| 199/199 [02:06<00:00,  1.58it/s]\n",
      "100%|██████████| 291/291 [05:21<00:00,  1.11s/it]\n",
      "100%|██████████| 176/176 [01:53<00:00,  1.55it/s]\n"
     ]
    }
   ],
   "source": [
    "control_data, control_labels = get_all_td_features(control_dir, 0)\n",
    "als_with_data, als_with_labels = get_all_td_features(als_with_dir, 1)\n",
    "als_without_data, als_without_labels = get_all_td_features(als_without_dir, 1)\n",
    "\n",
    "X = np.concatenate([control_data, als_with_data, als_without_data], axis=0)\n",
    "y = np.concatenate([control_labels, als_with_labels, als_without_labels], axis=0)\n",
    "X = np.array(X)\n",
    "\n",
    "\n",
    "# Data Cleaning\n",
    "\n",
    "X[X == None] = np.nan\n",
    "X = np.nan_to_num(X, nan=0.0)\n",
    "df = pd.DataFrame(X)\n",
    "df.fillna(0.0, inplace=True)\n",
    "X = df.to_numpy()\n",
    "\n",
    "X, y = shuffle(X, y, random_state=42)\n",
    "#X = X.reshape(-1,10,1)"
   ]
  },
  {
   "cell_type": "code",
   "execution_count": 7,
   "id": "5496568f0c844101",
   "metadata": {
    "ExecuteTime": {
     "end_time": "2023-12-15T00:31:51.291869773Z",
     "start_time": "2023-12-15T00:31:51.286611198Z"
    }
   },
   "outputs": [],
   "source": [
    "scorers = ['accuracy', 'precision', 'recall', 'f1']"
   ]
  },
  {
   "cell_type": "markdown",
   "id": "637af4f52295dc31",
   "metadata": {},
   "source": [
    "## Random Forest Classifier"
   ]
  },
  {
   "cell_type": "code",
   "execution_count": 8,
   "id": "f42f920de8bcfc65",
   "metadata": {
    "ExecuteTime": {
     "end_time": "2023-12-15T00:31:55.277419651Z",
     "start_time": "2023-12-15T00:31:51.292093503Z"
    }
   },
   "outputs": [
    {
     "name": "stdout",
     "output_type": "stream",
     "text": [
      "Random Forest Classifier:\n",
      "Cross-validation scores: [0.70149254 0.70149254 0.80597015 0.76119403 0.70149254 0.73134328\n",
      " 0.72727273 0.71212121 0.60606061 0.74242424]\n",
      "Mean accuracy: 0.7190863862505654\n",
      "Cross-validation scores for 2 Class RF:\n",
      "fit_time: 0.1862\n",
      "score_time: 0.0097\n",
      "test_accuracy: 0.7191\n",
      "test_precision: 0.7572\n",
      "test_recall: 0.8842\n",
      "test_f1: 0.8153\n"
     ]
    }
   ],
   "source": [
    "rf_classifier = RandomForestClassifier(n_estimators=100, random_state=42)\n",
    "rf_cv_scores = cross_validate(rf_classifier, X, y, cv=10)\n",
    "\n",
    "print(\"Random Forest Classifier:\")\n",
    "print(f\"Cross-validation scores: {rf_cv_scores['test_score']}\")\n",
    "print(f\"Mean accuracy: {rf_cv_scores['test_score'].mean()}\\n\")\n",
    "\n",
    "\n",
    "scores = cross_validate(rf_classifier, X, y, cv=10, scoring=scorers)\n",
    "print(\"Cross-validation scores for 2 Class RF:\")\n",
    "for metric_name, result in scores.items():\n",
    "    print(f\"{metric_name}: {result.mean():.4f}\")"
   ]
  },
  {
   "cell_type": "markdown",
   "id": "fc50ff1b197de3fb",
   "metadata": {},
   "source": [
    "## Logistic Regression"
   ]
  },
  {
   "cell_type": "code",
   "execution_count": 9,
   "id": "a89e5c88c65fa9a1",
   "metadata": {
    "ExecuteTime": {
     "end_time": "2023-12-15T00:31:55.508201740Z",
     "start_time": "2023-12-15T00:31:55.282092309Z"
    }
   },
   "outputs": [
    {
     "name": "stdout",
     "output_type": "stream",
     "text": [
      "Logistic Regression:\n",
      "Cross-validation scores: [0.74626866 0.68656716 0.74626866 0.65671642 0.68656716 0.67164179\n",
      " 0.66666667 0.68181818 0.68181818 0.74242424]\n",
      "Mean accuracy: 0.6966757123473541\n",
      "Cross-validation scores for 2 Class LR:\n",
      "fit_time: 0.0065\n",
      "score_time: 0.0047\n",
      "test_accuracy: 0.6967\n",
      "test_precision: 0.7145\n",
      "test_recall: 0.9463\n",
      "test_f1: 0.8139\n"
     ]
    }
   ],
   "source": [
    "log_reg = LogisticRegression(max_iter=1000, random_state=42)\n",
    "log_reg_cv_scores = cross_validate(log_reg, X, y, cv=10)\n",
    "\n",
    "print(\"Logistic Regression:\")\n",
    "print(f\"Cross-validation scores: {log_reg_cv_scores['test_score']}\")\n",
    "print(f\"Mean accuracy: {log_reg_cv_scores['test_score'].mean()}\\n\")\n",
    "\n",
    "scores = cross_validate(log_reg, X, y, cv=10, scoring=scorers)\n",
    "print(\"Cross-validation scores for 2 Class LR:\")\n",
    "for metric_name, result in scores.items():\n",
    "    print(f\"{metric_name}: {result.mean():.4f}\")"
   ]
  },
  {
   "cell_type": "markdown",
   "id": "90a7fd565e322ee1",
   "metadata": {},
   "source": [
    "## Linear Discriminant Analysis"
   ]
  },
  {
   "cell_type": "code",
   "execution_count": 10,
   "id": "54f8345f96b6a53f",
   "metadata": {
    "ExecuteTime": {
     "end_time": "2023-12-15T00:31:55.760690619Z",
     "start_time": "2023-12-15T00:31:55.504909928Z"
    }
   },
   "outputs": [
    {
     "name": "stdout",
     "output_type": "stream",
     "text": [
      "Linear Discriminant Analysis:\n",
      "Cross-validation scores: [0.74626866 0.76119403 0.76119403 0.76119403 0.76119403 0.73134328\n",
      " 0.71212121 0.77272727 0.68181818 0.77272727]\n",
      "Mean accuracy: 0.7461781999095431\n",
      "\n",
      "Cross-validation scores for 2 Class LDA:\n",
      "fit_time: 0.0010\n",
      "score_time: 0.0043\n",
      "test_accuracy: 0.7462\n",
      "test_precision: 0.7562\n",
      "test_recall: 0.9420\n",
      "test_f1: 0.8387\n"
     ]
    }
   ],
   "source": [
    "lda = LinearDiscriminantAnalysis()\n",
    "lda_cv_scores = cross_validate(lda, X, y, cv=10)\n",
    "\n",
    "print(\"Linear Discriminant Analysis:\")\n",
    "print(f\"Cross-validation scores: {lda_cv_scores['test_score']}\")\n",
    "print(f\"Mean accuracy: {lda_cv_scores['test_score'].mean()}\\n\")\n",
    "\n",
    "scores = cross_validate(lda, X, y, cv=10, scoring=scorers)\n",
    "print(\"Cross-validation scores for 2 Class LDA:\")\n",
    "for metric_name, result in scores.items():\n",
    "    print(f\"{metric_name}: {result.mean():.4f}\")"
   ]
  },
  {
   "cell_type": "markdown",
   "id": "979cebd009638774",
   "metadata": {},
   "source": [
    "## Multi-layer Perceptron"
   ]
  },
  {
   "cell_type": "code",
   "execution_count": 11,
   "id": "7ddb5af9aac019a1",
   "metadata": {
    "ExecuteTime": {
     "end_time": "2023-12-15T00:32:12.260285935Z",
     "start_time": "2023-12-15T00:31:55.765450683Z"
    }
   },
   "outputs": [
    {
     "name": "stdout",
     "output_type": "stream",
     "text": [
      "Neural Network (MLPClassifier):\n",
      "Cross-validation scores: [0.68656716 0.68656716 0.76119403 0.65671642 0.65671642 0.67164179\n",
      " 0.66666667 0.6969697  0.68181818 0.72727273]\n",
      "Mean accuracy: 0.68921302578019\n",
      "Cross-validation scores for 2 Class MLP:\n",
      "fit_time: 0.8179\n",
      "score_time: 0.0091\n",
      "test_accuracy: 0.6892\n",
      "test_precision: 0.7138\n",
      "test_recall: 0.9294\n",
      "test_f1: 0.8073\n"
     ]
    }
   ],
   "source": [
    "mlp_classifier = MLPClassifier(hidden_layer_sizes=(50, 50), max_iter=500, random_state=42)\n",
    "mlp_cv_scores = cross_validate(mlp_classifier, X, y, cv=10)\n",
    "\n",
    "print(\"Neural Network (MLPClassifier):\")\n",
    "print(f\"Cross-validation scores: {mlp_cv_scores['test_score']}\")\n",
    "print(f\"Mean accuracy: {mlp_cv_scores['test_score'].mean()}\\n\")\n",
    "\n",
    "scores = cross_validate(mlp_classifier, X, y, cv=10, scoring=scorers)\n",
    "print(\"Cross-validation scores for 2 Class MLP:\")\n",
    "for metric_name, result in scores.items():\n",
    "    print(f\"{metric_name}: {result.mean():.4f}\")"
   ]
  },
  {
   "cell_type": "markdown",
   "id": "de899c974049119a",
   "metadata": {},
   "source": [
    "## Support Vector Machine with RBF Kernel"
   ]
  },
  {
   "cell_type": "code",
   "execution_count": 12,
   "id": "d3131f122c6eef02",
   "metadata": {
    "ExecuteTime": {
     "end_time": "2023-12-15T00:32:12.576890287Z",
     "start_time": "2023-12-15T00:32:12.256531355Z"
    }
   },
   "outputs": [
    {
     "name": "stdout",
     "output_type": "stream",
     "text": [
      "Support Vector Machine with RBF Kernel:\n",
      "Cross-validation scores: [0.70149254 0.70149254 0.70149254 0.70149254 0.70149254 0.70149254\n",
      " 0.71212121 0.6969697  0.6969697  0.6969697 ]\n",
      "Mean accuracy: 0.7011985526910901\n",
      "Cross-validation scores for 2 Class SVM RBF:\n",
      "fit_time: 0.0109\n",
      "score_time: 0.0062\n",
      "test_accuracy: 0.7012\n",
      "test_precision: 0.7012\n",
      "test_recall: 1.0000\n",
      "test_f1: 0.8244\n"
     ]
    }
   ],
   "source": [
    "svm_rbf = SVC(kernel='rbf', gamma='scale', random_state=42)\n",
    "svm_rbf_cv_scores = cross_validate(svm_rbf, X, y, cv=10)\n",
    "\n",
    "print(\"Support Vector Machine with RBF Kernel:\")\n",
    "print(f\"Cross-validation scores: {svm_rbf_cv_scores['test_score']}\")\n",
    "print(f\"Mean accuracy: {svm_rbf_cv_scores['test_score'].mean()}\\n\")\n",
    "\n",
    "scores = cross_validate(svm_rbf, X, y, cv=10, scoring=scorers)\n",
    "print(\"Cross-validation scores for 2 Class SVM RBF:\")\n",
    "for metric_name, result in scores.items():\n",
    "    print(f\"{metric_name}: {result.mean():.4f}\")"
   ]
  },
  {
   "cell_type": "markdown",
   "id": "cc6bece365e3ae6f",
   "metadata": {},
   "source": [
    "## Support Vector Machine with Linear Kernel"
   ]
  },
  {
   "cell_type": "code",
   "execution_count": 13,
   "id": "3494cc6681c40f49",
   "metadata": {
    "ExecuteTime": {
     "end_time": "2023-12-15T00:32:13.237341314Z",
     "start_time": "2023-12-15T00:32:12.582149381Z"
    }
   },
   "outputs": [
    {
     "name": "stdout",
     "output_type": "stream",
     "text": [
      "Support Vector Machine with Linear Kernel:\n",
      "Cross-validation scores: [0.70149254 0.70149254 0.70149254 0.70149254 0.70149254 0.70149254\n",
      " 0.71212121 0.6969697  0.6969697  0.6969697 ]\n",
      "Mean accuracy: 0.7011985526910901\n",
      "Cross-validation scores for 2 Class SVM Linear Kernel:\n",
      "fit_time: 0.0297\n",
      "score_time: 0.0050\n",
      "test_accuracy: 0.7012\n",
      "test_precision: 0.7012\n",
      "test_recall: 1.0000\n",
      "test_f1: 0.8244\n"
     ]
    }
   ],
   "source": [
    "svm_linear = SVC(kernel='linear', random_state=42)\n",
    "svm_linear_cv_scores = cross_validate(svm_linear, X, y, cv=10)\n",
    "\n",
    "print(\"Support Vector Machine with Linear Kernel:\")\n",
    "print(f\"Cross-validation scores: {svm_linear_cv_scores['test_score']}\")\n",
    "print(f\"Mean accuracy: {svm_linear_cv_scores['test_score'].mean()}\\n\")\n",
    "\n",
    "scores = cross_validate(svm_linear, X, y, cv=10, scoring=scorers)\n",
    "print(\"Cross-validation scores for 2 Class SVM Linear Kernel:\")\n",
    "for metric_name, result in scores.items():\n",
    "    print(f\"{metric_name}: {result.mean():.4f}\")"
   ]
  },
  {
   "cell_type": "markdown",
   "id": "6f58020e856f5ecb",
   "metadata": {},
   "source": [
    "## 3 Class Classification"
   ]
  },
  {
   "cell_type": "code",
   "execution_count": 14,
   "id": "7ab554807f5765a2",
   "metadata": {
    "ExecuteTime": {
     "end_time": "2023-12-15T00:41:27.187931744Z",
     "start_time": "2023-12-15T00:32:13.239660331Z"
    }
   },
   "outputs": [
    {
     "name": "stderr",
     "output_type": "stream",
     "text": [
      "  0%|          | 0/199 [00:00<?, ?it/s]/home/bmis/Documents/AI-Workspace/ALS/bmis_data/code/hnr.py:81: RuntimeWarning: invalid value encountered in divide\n",
      "  r_x = ffts_outputs[0] / ffts_outputs[1]\n",
      " 12%|█▏        | 24/199 [00:13<01:32,  1.89it/s]/home/bmis/Documents/AI-Workspace/ALS/bmis_data/code/hnr.py:81: RuntimeWarning: divide by zero encountered in divide\n",
      "  r_x = ffts_outputs[0] / ffts_outputs[1]\n",
      "/home/bmis/anaconda3/envs/tf/lib/python3.9/site-packages/numpy/lib/function_base.py:1452: RuntimeWarning: invalid value encountered in subtract\n",
      "  a = op(a[slice1], a[slice2])\n",
      " 83%|████████▎ | 166/199 [01:38<00:23,  1.41it/s]/home/bmis/anaconda3/envs/tf/lib/python3.9/site-packages/numpy/core/fromnumeric.py:3504: RuntimeWarning: Mean of empty slice.\n",
      "  return _methods._mean(a, axis=axis, dtype=dtype,\n",
      "/home/bmis/anaconda3/envs/tf/lib/python3.9/site-packages/numpy/core/_methods.py:129: RuntimeWarning: invalid value encountered in scalar divide\n",
      "  ret = ret.dtype.type(ret / rcount)\n",
      "/home/bmis/anaconda3/envs/tf/lib/python3.9/site-packages/numpy/core/_methods.py:206: RuntimeWarning: Degrees of freedom <= 0 for slice\n",
      "  ret = _var(a, axis=axis, dtype=dtype, out=out, ddof=ddof,\n",
      "/home/bmis/anaconda3/envs/tf/lib/python3.9/site-packages/numpy/core/_methods.py:163: RuntimeWarning: invalid value encountered in divide\n",
      "  arrmean = um.true_divide(arrmean, div, out=arrmean,\n",
      "/home/bmis/anaconda3/envs/tf/lib/python3.9/site-packages/numpy/core/_methods.py:198: RuntimeWarning: invalid value encountered in scalar divide\n",
      "  ret = ret.dtype.type(ret / rcount)\n",
      " 85%|████████▌ | 170/199 [01:41<00:17,  1.65it/s]/home/bmis/anaconda3/envs/tf/lib/python3.9/site-packages/peakutils/peak.py:43: RuntimeWarning: invalid value encountered in scalar add\n",
      "  thres = thres * (np.max(y) - np.min(y)) + np.min(y)\n",
      "100%|██████████| 199/199 [02:00<00:00,  1.65it/s]\n",
      "100%|██████████| 291/291 [05:20<00:00,  1.10s/it]\n",
      "100%|██████████| 176/176 [01:53<00:00,  1.56it/s]\n"
     ]
    }
   ],
   "source": [
    "control_data, control_labels = get_all_td_features(control_dir, 0)\n",
    "als_with_data, als_with_labels = get_all_td_features(als_with_dir, 1)\n",
    "als_without_data, als_without_labels = get_all_td_features(als_without_dir, 2)\n",
    "\n",
    "\n",
    "X = np.concatenate([control_data, als_with_data, als_without_data], axis=0)\n",
    "y = np.concatenate([control_labels, als_with_labels, als_without_labels], axis=0)\n",
    "X = np.array(X)\n",
    "\n",
    "\n",
    "# Data Cleaning\n",
    "\n",
    "X[X == None] = np.nan\n",
    "X = np.nan_to_num(X, nan=0.0)\n",
    "df = pd.DataFrame(X)\n",
    "df.fillna(0.0, inplace=True)\n",
    "X = df.to_numpy()\n",
    "\n",
    "X, y = shuffle(X, y, random_state=42)\n",
    "#X = X.reshape(-1,10,1)"
   ]
  },
  {
   "cell_type": "code",
   "execution_count": 15,
   "id": "98ff883bb2898150",
   "metadata": {
    "ExecuteTime": {
     "end_time": "2023-12-15T00:41:27.192118488Z",
     "start_time": "2023-12-15T00:41:27.189816911Z"
    }
   },
   "outputs": [],
   "source": [
    "scorers = ['precision_weighted', 'recall_weighted', 'f1_weighted']"
   ]
  },
  {
   "cell_type": "markdown",
   "id": "589b67b6c8623742",
   "metadata": {},
   "source": [
    "## Random Forest Classifier"
   ]
  },
  {
   "cell_type": "code",
   "execution_count": 16,
   "id": "13641e3efdd089c1",
   "metadata": {
    "ExecuteTime": {
     "end_time": "2023-12-15T00:41:31.269080709Z",
     "start_time": "2023-12-15T00:41:27.191861748Z"
    }
   },
   "outputs": [
    {
     "name": "stdout",
     "output_type": "stream",
     "text": [
      "Random Forest Classifier:\n",
      "Cross-validation scores: [0.44776119 0.53731343 0.58208955 0.52238806 0.47761194 0.47761194\n",
      " 0.54545455 0.60606061 0.5        0.59090909]\n",
      "Mean accuracy: 0.5287200361827227\n",
      "Cross-validation scores for 3 Class RF:\n",
      "fit_time: 0.1893\n",
      "score_time: 0.0090\n",
      "test_precision_weighted: 0.5225\n",
      "test_recall_weighted: 0.5287\n",
      "test_f1_weighted: 0.5137\n"
     ]
    }
   ],
   "source": [
    "rf_classifier = RandomForestClassifier(n_estimators=100, random_state=42)\n",
    "rf_cv_scores = cross_validate(rf_classifier, X, y, cv=10)\n",
    "\n",
    "print(\"Random Forest Classifier:\")\n",
    "print(f\"Cross-validation scores: {rf_cv_scores['test_score']}\")\n",
    "print(f\"Mean accuracy: {rf_cv_scores['test_score'].mean()}\\n\")\n",
    "\n",
    "scores = cross_validate(rf_classifier, X, y, cv=10, scoring=scorers)\n",
    "print(\"Cross-validation scores for 3 Class RF:\")\n",
    "for metric_name, result in scores.items():\n",
    "    print(f\"{metric_name}: {result.mean():.4f}\")"
   ]
  },
  {
   "cell_type": "markdown",
   "id": "8dc9c7591e4ccead",
   "metadata": {},
   "source": [
    "## Logistic Regression"
   ]
  },
  {
   "cell_type": "code",
   "execution_count": 17,
   "id": "884918b7b16ed29b",
   "metadata": {
    "ExecuteTime": {
     "end_time": "2023-12-15T00:41:31.804497067Z",
     "start_time": "2023-12-15T00:41:31.271910982Z"
    }
   },
   "outputs": [
    {
     "name": "stdout",
     "output_type": "stream",
     "text": [
      "Logistic Regression:\n",
      "Cross-validation scores: [0.43283582 0.49253731 0.52238806 0.40298507 0.46268657 0.44776119\n",
      " 0.40909091 0.5        0.45454545 0.5       ]\n",
      "Mean accuracy: 0.462483039348711\n"
     ]
    },
    {
     "name": "stderr",
     "output_type": "stream",
     "text": [
      "/home/bmis/anaconda3/envs/tf/lib/python3.9/site-packages/sklearn/metrics/_classification.py:1469: UndefinedMetricWarning: Precision is ill-defined and being set to 0.0 in labels with no predicted samples. Use `zero_division` parameter to control this behavior.\n",
      "  _warn_prf(average, modifier, msg_start, len(result))\n",
      "/home/bmis/anaconda3/envs/tf/lib/python3.9/site-packages/sklearn/metrics/_classification.py:1469: UndefinedMetricWarning: Precision is ill-defined and being set to 0.0 in labels with no predicted samples. Use `zero_division` parameter to control this behavior.\n",
      "  _warn_prf(average, modifier, msg_start, len(result))\n",
      "/home/bmis/anaconda3/envs/tf/lib/python3.9/site-packages/sklearn/metrics/_classification.py:1469: UndefinedMetricWarning: Precision is ill-defined and being set to 0.0 in labels with no predicted samples. Use `zero_division` parameter to control this behavior.\n",
      "  _warn_prf(average, modifier, msg_start, len(result))\n",
      "/home/bmis/anaconda3/envs/tf/lib/python3.9/site-packages/sklearn/metrics/_classification.py:1469: UndefinedMetricWarning: Precision is ill-defined and being set to 0.0 in labels with no predicted samples. Use `zero_division` parameter to control this behavior.\n",
      "  _warn_prf(average, modifier, msg_start, len(result))\n",
      "/home/bmis/anaconda3/envs/tf/lib/python3.9/site-packages/sklearn/metrics/_classification.py:1469: UndefinedMetricWarning: Precision is ill-defined and being set to 0.0 in labels with no predicted samples. Use `zero_division` parameter to control this behavior.\n",
      "  _warn_prf(average, modifier, msg_start, len(result))\n",
      "/home/bmis/anaconda3/envs/tf/lib/python3.9/site-packages/sklearn/metrics/_classification.py:1469: UndefinedMetricWarning: Precision is ill-defined and being set to 0.0 in labels with no predicted samples. Use `zero_division` parameter to control this behavior.\n",
      "  _warn_prf(average, modifier, msg_start, len(result))\n"
     ]
    },
    {
     "name": "stdout",
     "output_type": "stream",
     "text": [
      "Cross-validation scores for 3 Class LR:\n",
      "fit_time: 0.0226\n",
      "score_time: 0.0040\n",
      "test_precision_weighted: 0.3714\n",
      "test_recall_weighted: 0.4625\n",
      "test_f1_weighted: 0.3845\n"
     ]
    },
    {
     "name": "stderr",
     "output_type": "stream",
     "text": [
      "/home/bmis/anaconda3/envs/tf/lib/python3.9/site-packages/sklearn/metrics/_classification.py:1469: UndefinedMetricWarning: Precision is ill-defined and being set to 0.0 in labels with no predicted samples. Use `zero_division` parameter to control this behavior.\n",
      "  _warn_prf(average, modifier, msg_start, len(result))\n"
     ]
    }
   ],
   "source": [
    "log_reg = LogisticRegression(max_iter=1000, random_state=42)\n",
    "log_reg_cv_scores = cross_validate(log_reg, X, y, cv=10)\n",
    "\n",
    "print(\"Logistic Regression:\")\n",
    "print(f\"Cross-validation scores: {log_reg_cv_scores['test_score']}\")\n",
    "print(f\"Mean accuracy: {log_reg_cv_scores['test_score'].mean()}\\n\")\n",
    "\n",
    "scores = cross_validate(log_reg, X, y, cv=10, scoring=scorers)\n",
    "print(\"Cross-validation scores for 3 Class LR:\")\n",
    "for metric_name, result in scores.items():\n",
    "    print(f\"{metric_name}: {result.mean():.4f}\")"
   ]
  },
  {
   "cell_type": "markdown",
   "id": "4dd652f8344c67e5",
   "metadata": {},
   "source": [
    "## Linear Discriminant Analysis"
   ]
  },
  {
   "cell_type": "code",
   "execution_count": 18,
   "id": "1c8c551dd58d3e71",
   "metadata": {
    "ExecuteTime": {
     "end_time": "2023-12-15T00:41:31.870311104Z",
     "start_time": "2023-12-15T00:41:31.775293906Z"
    }
   },
   "outputs": [
    {
     "name": "stdout",
     "output_type": "stream",
     "text": [
      "Linear Discriminant Analysis:\n",
      "Cross-validation scores: [0.46268657 0.55223881 0.53731343 0.49253731 0.53731343 0.59701493\n",
      " 0.46969697 0.5        0.5        0.48484848]\n",
      "Mean accuracy: 0.5133649932157395\n",
      "\n",
      "Cross-validation scores for 3 Class LDA:\n",
      "fit_time: 0.0015\n",
      "score_time: 0.0053\n",
      "test_precision_weighted: 0.5330\n",
      "test_recall_weighted: 0.5134\n",
      "test_f1_weighted: 0.4711\n"
     ]
    }
   ],
   "source": [
    "lda = LinearDiscriminantAnalysis()\n",
    "lda_cv_scores = cross_validate(lda, X, y, cv=10)\n",
    "\n",
    "print(\"Linear Discriminant Analysis:\")\n",
    "print(f\"Cross-validation scores: {lda_cv_scores['test_score']}\")\n",
    "print(f\"Mean accuracy: {lda_cv_scores['test_score'].mean()}\\n\")\n",
    "\n",
    "scores = cross_validate(lda, X, y, cv=10, scoring=scorers)\n",
    "print(\"Cross-validation scores for 3 Class LDA:\")\n",
    "for metric_name, result in scores.items():\n",
    "    print(f\"{metric_name}: {result.mean():.4f}\")"
   ]
  },
  {
   "cell_type": "markdown",
   "id": "bbff03d16988e694",
   "metadata": {},
   "source": [
    "## Multi-layer Perceptron"
   ]
  },
  {
   "cell_type": "code",
   "execution_count": 19,
   "id": "3881a2730e7c4123",
   "metadata": {
    "ExecuteTime": {
     "end_time": "2023-12-15T00:41:53.258592544Z",
     "start_time": "2023-12-15T00:41:31.874969108Z"
    }
   },
   "outputs": [
    {
     "name": "stdout",
     "output_type": "stream",
     "text": [
      "Neural Network (MLPClassifier):\n",
      "Cross-validation scores: [0.43283582 0.49253731 0.49253731 0.3880597  0.46268657 0.44776119\n",
      " 0.42424242 0.51515152 0.43939394 0.46969697]\n",
      "Mean accuracy: 0.456490275893261\n"
     ]
    },
    {
     "name": "stderr",
     "output_type": "stream",
     "text": [
      "/home/bmis/anaconda3/envs/tf/lib/python3.9/site-packages/sklearn/metrics/_classification.py:1469: UndefinedMetricWarning: Precision is ill-defined and being set to 0.0 in labels with no predicted samples. Use `zero_division` parameter to control this behavior.\n",
      "  _warn_prf(average, modifier, msg_start, len(result))\n",
      "/home/bmis/anaconda3/envs/tf/lib/python3.9/site-packages/sklearn/metrics/_classification.py:1469: UndefinedMetricWarning: Precision is ill-defined and being set to 0.0 in labels with no predicted samples. Use `zero_division` parameter to control this behavior.\n",
      "  _warn_prf(average, modifier, msg_start, len(result))\n",
      "/home/bmis/anaconda3/envs/tf/lib/python3.9/site-packages/sklearn/metrics/_classification.py:1469: UndefinedMetricWarning: Precision is ill-defined and being set to 0.0 in labels with no predicted samples. Use `zero_division` parameter to control this behavior.\n",
      "  _warn_prf(average, modifier, msg_start, len(result))\n",
      "/home/bmis/anaconda3/envs/tf/lib/python3.9/site-packages/sklearn/metrics/_classification.py:1469: UndefinedMetricWarning: Precision is ill-defined and being set to 0.0 in labels with no predicted samples. Use `zero_division` parameter to control this behavior.\n",
      "  _warn_prf(average, modifier, msg_start, len(result))\n",
      "/home/bmis/anaconda3/envs/tf/lib/python3.9/site-packages/sklearn/metrics/_classification.py:1469: UndefinedMetricWarning: Precision is ill-defined and being set to 0.0 in labels with no predicted samples. Use `zero_division` parameter to control this behavior.\n",
      "  _warn_prf(average, modifier, msg_start, len(result))\n",
      "/home/bmis/anaconda3/envs/tf/lib/python3.9/site-packages/sklearn/metrics/_classification.py:1469: UndefinedMetricWarning: Precision is ill-defined and being set to 0.0 in labels with no predicted samples. Use `zero_division` parameter to control this behavior.\n",
      "  _warn_prf(average, modifier, msg_start, len(result))\n",
      "/home/bmis/anaconda3/envs/tf/lib/python3.9/site-packages/sklearn/metrics/_classification.py:1469: UndefinedMetricWarning: Precision is ill-defined and being set to 0.0 in labels with no predicted samples. Use `zero_division` parameter to control this behavior.\n",
      "  _warn_prf(average, modifier, msg_start, len(result))\n"
     ]
    },
    {
     "name": "stdout",
     "output_type": "stream",
     "text": [
      "Cross-validation scores for 3 Class MLP:\n",
      "fit_time: 1.0667\n",
      "score_time: 0.0100\n",
      "test_precision_weighted: 0.3399\n",
      "test_recall_weighted: 0.4565\n",
      "test_f1_weighted: 0.3782\n"
     ]
    },
    {
     "name": "stderr",
     "output_type": "stream",
     "text": [
      "/home/bmis/anaconda3/envs/tf/lib/python3.9/site-packages/sklearn/metrics/_classification.py:1469: UndefinedMetricWarning: Precision is ill-defined and being set to 0.0 in labels with no predicted samples. Use `zero_division` parameter to control this behavior.\n",
      "  _warn_prf(average, modifier, msg_start, len(result))\n"
     ]
    }
   ],
   "source": [
    "mlp_classifier = MLPClassifier(hidden_layer_sizes=(50, 50), max_iter=500, random_state=42)\n",
    "mlp_cv_scores = cross_validate(mlp_classifier, X, y, cv=10)\n",
    "\n",
    "print(\"Neural Network (MLPClassifier):\")\n",
    "print(f\"Cross-validation scores: {mlp_cv_scores['test_score']}\")\n",
    "print(f\"Mean accuracy: {mlp_cv_scores['test_score'].mean()}\\n\")\n",
    "\n",
    "scores = cross_validate(mlp_classifier, X, y, cv=10, scoring=scorers)\n",
    "print(\"Cross-validation scores for 3 Class MLP:\")\n",
    "for metric_name, result in scores.items():\n",
    "    print(f\"{metric_name}: {result.mean():.4f}\")"
   ]
  },
  {
   "cell_type": "markdown",
   "id": "5d9c3bf866769334",
   "metadata": {},
   "source": [
    "## Support Vector Machine with RBF Kernel"
   ]
  },
  {
   "cell_type": "code",
   "execution_count": 20,
   "id": "67e43d03ec8b745c",
   "metadata": {
    "ExecuteTime": {
     "end_time": "2023-12-15T00:41:53.732953195Z",
     "start_time": "2023-12-15T00:41:53.260421397Z"
    }
   },
   "outputs": [
    {
     "name": "stdout",
     "output_type": "stream",
     "text": [
      "Support Vector Machine with RBF Kernel:\n",
      "Cross-validation scores: [0.43283582 0.44776119 0.43283582 0.41791045 0.43283582 0.44776119\n",
      " 0.40909091 0.42424242 0.43939394 0.43939394]\n",
      "Mean accuracy: 0.4324061510628675\n",
      "\n",
      "Cross-validation scores for 3 Class SVM with RBF:\n",
      "fit_time: 0.0149\n",
      "score_time: 0.0053\n",
      "test_precision_weighted: 0.2797\n",
      "test_recall_weighted: 0.4324\n",
      "test_f1_weighted: 0.3030\n"
     ]
    },
    {
     "name": "stderr",
     "output_type": "stream",
     "text": [
      "/home/bmis/anaconda3/envs/tf/lib/python3.9/site-packages/sklearn/metrics/_classification.py:1469: UndefinedMetricWarning: Precision is ill-defined and being set to 0.0 in labels with no predicted samples. Use `zero_division` parameter to control this behavior.\n",
      "  _warn_prf(average, modifier, msg_start, len(result))\n",
      "/home/bmis/anaconda3/envs/tf/lib/python3.9/site-packages/sklearn/metrics/_classification.py:1469: UndefinedMetricWarning: Precision is ill-defined and being set to 0.0 in labels with no predicted samples. Use `zero_division` parameter to control this behavior.\n",
      "  _warn_prf(average, modifier, msg_start, len(result))\n",
      "/home/bmis/anaconda3/envs/tf/lib/python3.9/site-packages/sklearn/metrics/_classification.py:1469: UndefinedMetricWarning: Precision is ill-defined and being set to 0.0 in labels with no predicted samples. Use `zero_division` parameter to control this behavior.\n",
      "  _warn_prf(average, modifier, msg_start, len(result))\n",
      "/home/bmis/anaconda3/envs/tf/lib/python3.9/site-packages/sklearn/metrics/_classification.py:1469: UndefinedMetricWarning: Precision is ill-defined and being set to 0.0 in labels with no predicted samples. Use `zero_division` parameter to control this behavior.\n",
      "  _warn_prf(average, modifier, msg_start, len(result))\n",
      "/home/bmis/anaconda3/envs/tf/lib/python3.9/site-packages/sklearn/metrics/_classification.py:1469: UndefinedMetricWarning: Precision is ill-defined and being set to 0.0 in labels with no predicted samples. Use `zero_division` parameter to control this behavior.\n",
      "  _warn_prf(average, modifier, msg_start, len(result))\n",
      "/home/bmis/anaconda3/envs/tf/lib/python3.9/site-packages/sklearn/metrics/_classification.py:1469: UndefinedMetricWarning: Precision is ill-defined and being set to 0.0 in labels with no predicted samples. Use `zero_division` parameter to control this behavior.\n",
      "  _warn_prf(average, modifier, msg_start, len(result))\n",
      "/home/bmis/anaconda3/envs/tf/lib/python3.9/site-packages/sklearn/metrics/_classification.py:1469: UndefinedMetricWarning: Precision is ill-defined and being set to 0.0 in labels with no predicted samples. Use `zero_division` parameter to control this behavior.\n",
      "  _warn_prf(average, modifier, msg_start, len(result))\n",
      "/home/bmis/anaconda3/envs/tf/lib/python3.9/site-packages/sklearn/metrics/_classification.py:1469: UndefinedMetricWarning: Precision is ill-defined and being set to 0.0 in labels with no predicted samples. Use `zero_division` parameter to control this behavior.\n",
      "  _warn_prf(average, modifier, msg_start, len(result))\n",
      "/home/bmis/anaconda3/envs/tf/lib/python3.9/site-packages/sklearn/metrics/_classification.py:1469: UndefinedMetricWarning: Precision is ill-defined and being set to 0.0 in labels with no predicted samples. Use `zero_division` parameter to control this behavior.\n",
      "  _warn_prf(average, modifier, msg_start, len(result))\n",
      "/home/bmis/anaconda3/envs/tf/lib/python3.9/site-packages/sklearn/metrics/_classification.py:1469: UndefinedMetricWarning: Precision is ill-defined and being set to 0.0 in labels with no predicted samples. Use `zero_division` parameter to control this behavior.\n",
      "  _warn_prf(average, modifier, msg_start, len(result))\n"
     ]
    }
   ],
   "source": [
    "svm_rbf = SVC(kernel='rbf', gamma='scale', random_state=42)\n",
    "svm_rbf_cv_scores = cross_validate(svm_rbf, X, y, cv=10)\n",
    "\n",
    "print(\"Support Vector Machine with RBF Kernel:\")\n",
    "print(f\"Cross-validation scores: {svm_rbf_cv_scores['test_score']}\")\n",
    "print(f\"Mean accuracy: {svm_rbf_cv_scores['test_score'].mean()}\\n\")\n",
    "\n",
    "scores = cross_validate(svm_rbf, X, y, cv=10, scoring=scorers)\n",
    "print(\"Cross-validation scores for 3 Class SVM with RBF:\")\n",
    "for metric_name, result in scores.items():\n",
    "    print(f\"{metric_name}: {result.mean():.4f}\")"
   ]
  },
  {
   "cell_type": "markdown",
   "id": "d46093655c80b582",
   "metadata": {},
   "source": [
    "## Support Vector Machine with Linear Kernel"
   ]
  },
  {
   "cell_type": "code",
   "execution_count": 21,
   "id": "ac0c770a0ee212dd",
   "metadata": {
    "ExecuteTime": {
     "end_time": "2023-12-15T00:50:31.003183089Z",
     "start_time": "2023-12-15T00:50:29.785213934Z"
    }
   },
   "outputs": [
    {
     "name": "stdout",
     "output_type": "stream",
     "text": [
      "Support Vector Machine with Linear Kernel:\n",
      "Cross-validation scores: [0.41791045 0.44776119 0.47761194 0.40298507 0.46268657 0.40298507\n",
      " 0.42424242 0.48484848 0.43939394 0.46969697]\n",
      "Mean accuracy: 0.4430122116689281\n"
     ]
    },
    {
     "name": "stderr",
     "output_type": "stream",
     "text": [
      "/home/bmis/anaconda3/envs/tf/lib/python3.9/site-packages/sklearn/metrics/_classification.py:1469: UndefinedMetricWarning: Precision is ill-defined and being set to 0.0 in labels with no predicted samples. Use `zero_division` parameter to control this behavior.\n",
      "  _warn_prf(average, modifier, msg_start, len(result))\n",
      "/home/bmis/anaconda3/envs/tf/lib/python3.9/site-packages/sklearn/metrics/_classification.py:1469: UndefinedMetricWarning: Precision is ill-defined and being set to 0.0 in labels with no predicted samples. Use `zero_division` parameter to control this behavior.\n",
      "  _warn_prf(average, modifier, msg_start, len(result))\n",
      "/home/bmis/anaconda3/envs/tf/lib/python3.9/site-packages/sklearn/metrics/_classification.py:1469: UndefinedMetricWarning: Precision is ill-defined and being set to 0.0 in labels with no predicted samples. Use `zero_division` parameter to control this behavior.\n",
      "  _warn_prf(average, modifier, msg_start, len(result))\n",
      "/home/bmis/anaconda3/envs/tf/lib/python3.9/site-packages/sklearn/metrics/_classification.py:1469: UndefinedMetricWarning: Precision is ill-defined and being set to 0.0 in labels with no predicted samples. Use `zero_division` parameter to control this behavior.\n",
      "  _warn_prf(average, modifier, msg_start, len(result))\n",
      "/home/bmis/anaconda3/envs/tf/lib/python3.9/site-packages/sklearn/metrics/_classification.py:1469: UndefinedMetricWarning: Precision is ill-defined and being set to 0.0 in labels with no predicted samples. Use `zero_division` parameter to control this behavior.\n",
      "  _warn_prf(average, modifier, msg_start, len(result))\n",
      "/home/bmis/anaconda3/envs/tf/lib/python3.9/site-packages/sklearn/metrics/_classification.py:1469: UndefinedMetricWarning: Precision is ill-defined and being set to 0.0 in labels with no predicted samples. Use `zero_division` parameter to control this behavior.\n",
      "  _warn_prf(average, modifier, msg_start, len(result))\n",
      "/home/bmis/anaconda3/envs/tf/lib/python3.9/site-packages/sklearn/metrics/_classification.py:1469: UndefinedMetricWarning: Precision is ill-defined and being set to 0.0 in labels with no predicted samples. Use `zero_division` parameter to control this behavior.\n",
      "  _warn_prf(average, modifier, msg_start, len(result))\n"
     ]
    },
    {
     "name": "stdout",
     "output_type": "stream",
     "text": [
      "Cross-validation scores for 3 Class SVM with Linear Kernel:\n",
      "fit_time: 0.0568\n",
      "score_time: 0.0060\n",
      "test_precision_weighted: 0.3385\n",
      "test_recall_weighted: 0.4430\n",
      "test_f1_weighted: 0.3504\n"
     ]
    },
    {
     "name": "stderr",
     "output_type": "stream",
     "text": [
      "/home/bmis/anaconda3/envs/tf/lib/python3.9/site-packages/sklearn/metrics/_classification.py:1469: UndefinedMetricWarning: Precision is ill-defined and being set to 0.0 in labels with no predicted samples. Use `zero_division` parameter to control this behavior.\n",
      "  _warn_prf(average, modifier, msg_start, len(result))\n",
      "/home/bmis/anaconda3/envs/tf/lib/python3.9/site-packages/sklearn/metrics/_classification.py:1469: UndefinedMetricWarning: Precision is ill-defined and being set to 0.0 in labels with no predicted samples. Use `zero_division` parameter to control this behavior.\n",
      "  _warn_prf(average, modifier, msg_start, len(result))\n",
      "/home/bmis/anaconda3/envs/tf/lib/python3.9/site-packages/sklearn/metrics/_classification.py:1469: UndefinedMetricWarning: Precision is ill-defined and being set to 0.0 in labels with no predicted samples. Use `zero_division` parameter to control this behavior.\n",
      "  _warn_prf(average, modifier, msg_start, len(result))\n"
     ]
    }
   ],
   "source": [
    "svm_linear = SVC(kernel='linear', random_state=42)\n",
    "svm_linear_cv_scores = cross_validate(svm_linear, X, y, cv=10)\n",
    "\n",
    "print(\"Support Vector Machine with Linear Kernel:\")\n",
    "print(f\"Cross-validation scores: {svm_linear_cv_scores['test_score']}\")\n",
    "print(f\"Mean accuracy: {svm_linear_cv_scores['test_score'].mean()}\\n\")\n",
    "\n",
    "scores = cross_validate(svm_linear, X, y, cv=10, scoring=scorers)\n",
    "print(\"Cross-validation scores for 3 Class SVM with Linear Kernel:\")\n",
    "for metric_name, result in scores.items():\n",
    "    print(f\"{metric_name}: {result.mean():.4f}\")"
   ]
  },
  {
   "cell_type": "code",
   "execution_count": null,
   "id": "8b88181db45285aa",
   "metadata": {},
   "outputs": [],
   "source": []
  }
 ],
 "metadata": {
  "kernelspec": {
   "display_name": "hasib-tf",
   "language": "python",
   "name": "hasib-tf"
  },
  "language_info": {
   "codemirror_mode": {
    "name": "ipython",
    "version": 3
   },
   "file_extension": ".py",
   "mimetype": "text/x-python",
   "name": "python",
   "nbconvert_exporter": "python",
   "pygments_lexer": "ipython3",
   "version": "3.8.13"
  }
 },
 "nbformat": 4,
 "nbformat_minor": 5
}

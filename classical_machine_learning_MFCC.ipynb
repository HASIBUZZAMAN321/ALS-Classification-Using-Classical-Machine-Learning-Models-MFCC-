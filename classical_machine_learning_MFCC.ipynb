{
 "cells": [
  {
   "cell_type": "code",
   "execution_count": 1,
   "id": "initial_id",
   "metadata": {
    "collapsed": true,
    "ExecuteTime": {
     "end_time": "2023-12-05T01:12:30.640709824Z",
     "start_time": "2023-12-05T01:12:30.640176493Z"
    }
   },
   "outputs": [],
   "source": [
    "import numpy as np\n",
    "import pandas as pd\n",
    "import os\n",
    "import re\n",
    "import warnings\n",
    "import matplotlib.pyplot as plt\n",
    "import seaborn as sns\n",
    "import librosa\n",
    "import IPython.display as ipd\n",
    "from tqdm import tqdm"
   ]
  },
  {
   "cell_type": "code",
   "execution_count": 2,
   "outputs": [],
   "source": [
    "from hnr import *\n",
    "from jitters import *\n",
    "from shimmers import *\n",
    "from sound import Waveform"
   ],
   "metadata": {
    "collapsed": false,
    "ExecuteTime": {
     "end_time": "2023-12-05T01:12:31.616403183Z",
     "start_time": "2023-12-05T01:12:30.640326874Z"
    }
   },
   "id": "ee6ac469236def87"
  },
  {
   "cell_type": "code",
   "execution_count": 3,
   "outputs": [],
   "source": [
    "from sklearn.model_selection import cross_validate\n",
    "from sklearn.ensemble import RandomForestClassifier\n",
    "from sklearn.linear_model import LogisticRegression\n",
    "from sklearn.discriminant_analysis import LinearDiscriminantAnalysis\n",
    "from sklearn.neural_network import MLPClassifier\n",
    "from sklearn.svm import SVC\n",
    "from sklearn.utils import shuffle\n",
    "from sklearn.metrics import make_scorer, accuracy_score, precision_score, recall_score, f1_score\n",
    "from mlxtend.plotting import plot_confusion_matrix\n",
    "from sklearn.metrics import confusion_matrix"
   ],
   "metadata": {
    "collapsed": false,
    "ExecuteTime": {
     "end_time": "2023-12-05T01:12:31.713452047Z",
     "start_time": "2023-12-05T01:12:31.618271378Z"
    }
   },
   "id": "c302459a45f09a45"
  },
  {
   "cell_type": "code",
   "execution_count": 4,
   "outputs": [],
   "source": [
    "data_path = \"/home/bmis/Documents/AI-Workspace/ALS/bmis_data/All\"\n",
    "\n",
    "control_path = 'Control'\n",
    "als_with_dysarthria_path = 'ALSwDysarthria'\n",
    "als_without_dysarthria_path = 'ALSwoDysarthria'\n",
    "\n",
    "control_dir = os.path.join(data_path, control_path)\n",
    "control = os.listdir(control_dir)[0]\n",
    "\n",
    "als_with_dir = os.path.join(data_path, als_with_dysarthria_path)\n",
    "als_with_dys = os.listdir(als_with_dir)[1]\n",
    "\n",
    "als_without_dir = os.path.join(data_path, als_without_dysarthria_path)\n",
    "als_without_dys = os.listdir(als_without_dir)[1]"
   ],
   "metadata": {
    "collapsed": false,
    "ExecuteTime": {
     "end_time": "2023-12-05T01:12:31.766376368Z",
     "start_time": "2023-12-05T01:12:31.720173072Z"
    }
   },
   "id": "726c05a90c4a8a5"
  },
  {
   "cell_type": "code",
   "execution_count": 5,
   "outputs": [],
   "source": [
    "def extract_td_feature(audio_path):\n",
    "    td_features = []\n",
    "    _, sample_rate = librosa.load(audio_path)\n",
    "    #print(audio_path)\n",
    "    sound = Waveform(path=audio_path, sample_rate=sample_rate)\n",
    "\n",
    "    td_features.append(sound.jitters()['localabsoluteJitter'])\n",
    "    td_features.append(sound.jitters()['localJitter'])\n",
    "    td_features.append(sound.jitters()['rapJitter'])\n",
    "    td_features.append(sound.jitters()['ppq5Jitter'])\n",
    "\n",
    "    td_features.append(sound.shimmers()['localShimmer'])\n",
    "    td_features.append(sound.shimmers()['localdbShimmer'])\n",
    "    td_features.append(sound.shimmers()['apq3Shimmer'])\n",
    "    td_features.append(sound.shimmers()['apq5Shimmer'])\n",
    "    td_features.append(sound.shimmers()['apq11Shimmer'])\n",
    "\n",
    "    _ =(sound.hnr())\n",
    "    hnr = sound.hnr()\n",
    "    td_features.append(hnr)\n",
    "\n",
    "    return np.array(td_features)\n",
    "\n",
    "def get_all_td_features(data_path, label):\n",
    "    data = []\n",
    "    labels = []\n",
    "\n",
    "    for file in tqdm(os.listdir(data_path)):\n",
    "        #print(f'loading file: {file}')\n",
    "        try:\n",
    "            feature = extract_td_feature(os.path.join(data_path, file))\n",
    "            data.append(feature)\n",
    "            labels.append(label)\n",
    "        except:\n",
    "            print(\"Error encountered while parsing file: \", file)\n",
    "            continue\n",
    "    return data, labels"
   ],
   "metadata": {
    "collapsed": false,
    "ExecuteTime": {
     "end_time": "2023-12-05T01:12:31.828958893Z",
     "start_time": "2023-12-05T01:12:31.764282686Z"
    }
   },
   "id": "f2503df207b71148"
  },
  {
   "cell_type": "code",
   "execution_count": 6,
   "outputs": [],
   "source": [
    "def extract_MFCC_features(audio_path):\n",
    "    audio, sample_rate = librosa.load(audio_path)\n",
    "    mfccs = librosa.feature.mfcc(y=audio, sr=sample_rate, n_mfcc=128)\n",
    "    #mfccs = librosa.feature.mfcc(y=audio, sr=sample_rate)\n",
    "    mfccs_scaled = np.mean(mfccs.T,axis=0)\n",
    "    return mfccs_scaled\n",
    "\n",
    "\n",
    "def get_MFCC_data(data_path, label):\n",
    "    data = []\n",
    "    labels = []\n",
    "    for file in tqdm(os.listdir(data_path)):\n",
    "        try:\n",
    "            feature = extract_MFCC_features(os.path.join(data_path, file))\n",
    "            data.append(feature)\n",
    "            labels.append(label)\n",
    "        except:\n",
    "            print(\"Error encountered while parsing file: \", file)\n",
    "            continue\n",
    "    return data, labels"
   ],
   "metadata": {
    "collapsed": false,
    "ExecuteTime": {
     "end_time": "2023-12-05T01:12:31.948218926Z",
     "start_time": "2023-12-05T01:12:31.831615567Z"
    }
   },
   "id": "74f50bd3f5f0a16b"
  },
  {
   "cell_type": "markdown",
   "source": [
    "## 2 Class Classification"
   ],
   "metadata": {
    "collapsed": false
   },
   "id": "2bc312f51a87b2cd"
  },
  {
   "cell_type": "code",
   "execution_count": 7,
   "outputs": [
    {
     "name": "stderr",
     "output_type": "stream",
     "text": [
      "100%|██████████| 199/199 [00:05<00:00, 39.50it/s]\n",
      "100%|██████████| 291/291 [00:11<00:00, 25.69it/s]\n",
      "100%|██████████| 176/176 [00:04<00:00, 38.20it/s]\n"
     ]
    }
   ],
   "source": [
    "#control_data, control_labels = get_all_td_features(control_dir, 0)\n",
    "#als_with_data, als_with_labels = get_all_td_features(als_with_dir, 1)\n",
    "#als_without_data, als_without_labels = get_all_td_features(als_without_dir, 1)\n",
    "\n",
    "control_data, control_labels = get_MFCC_data(control_dir, 0)\n",
    "als_with_data, als_with_labels = get_MFCC_data(als_with_dir, 1)\n",
    "als_without_data, als_without_labels = get_MFCC_data(als_without_dir, 1)\n",
    "\n",
    "X = np.concatenate([control_data, als_with_data, als_without_data], axis=0)\n",
    "y = np.concatenate([control_labels, als_with_labels, als_without_labels], axis=0)\n",
    "X = np.array(X)\n",
    "\n",
    "\n",
    "# Data Cleaning\n",
    "\n",
    "X[X == None] = np.nan\n",
    "X = np.nan_to_num(X, nan=0.0)\n",
    "df = pd.DataFrame(X)\n",
    "df.fillna(0.0, inplace=True)\n",
    "X = df.to_numpy()\n",
    "\n",
    "X, y = shuffle(X, y, random_state=42)\n",
    "#X = X.reshape(-1,10,1)"
   ],
   "metadata": {
    "collapsed": false,
    "ExecuteTime": {
     "end_time": "2023-12-05T01:12:53.185640513Z",
     "start_time": "2023-12-05T01:12:31.950393667Z"
    }
   },
   "id": "c1a008940ec930ac"
  },
  {
   "cell_type": "code",
   "execution_count": 8,
   "outputs": [],
   "source": [
    "scorers = ['accuracy', 'precision', 'recall', 'f1']"
   ],
   "metadata": {
    "collapsed": false,
    "ExecuteTime": {
     "end_time": "2023-12-05T01:12:53.185729937Z",
     "start_time": "2023-12-05T01:12:53.176160002Z"
    }
   },
   "id": "5496568f0c844101"
  },
  {
   "cell_type": "markdown",
   "source": [
    "## Random Forest Classifier"
   ],
   "metadata": {
    "collapsed": false
   },
   "id": "637af4f52295dc31"
  },
  {
   "cell_type": "code",
   "execution_count": 9,
   "outputs": [
    {
     "name": "stdout",
     "output_type": "stream",
     "text": [
      "Random Forest Classifier:\n",
      "Cross-validation scores: [0.8358209  0.89552239 0.94029851 0.88059701 0.89552239 0.82089552\n",
      " 0.84848485 0.87878788 0.75757576 0.83333333]\n",
      "Mean accuracy: 0.858683853459973\n",
      "Cross-validation scores for 2 Class RF:\n",
      "fit_time: 0.4223\n",
      "score_time: 0.0088\n",
      "test_accuracy: 0.8587\n",
      "test_precision: 0.8516\n",
      "test_recall: 0.9699\n",
      "test_f1: 0.9063\n"
     ]
    }
   ],
   "source": [
    "rf_classifier = RandomForestClassifier(n_estimators=100, random_state=42)\n",
    "rf_cv_scores = cross_validate(rf_classifier, X, y, cv=10)\n",
    "\n",
    "print(\"Random Forest Classifier:\")\n",
    "print(f\"Cross-validation scores: {rf_cv_scores['test_score']}\")\n",
    "print(f\"Mean accuracy: {rf_cv_scores['test_score'].mean()}\\n\")\n",
    "\n",
    "\n",
    "scores = cross_validate(rf_classifier, X, y, cv=10, scoring=scorers)\n",
    "print(\"Cross-validation scores for 2 Class RF:\")\n",
    "for metric_name, result in scores.items():\n",
    "    print(f\"{metric_name}: {result.mean():.4f}\")"
   ],
   "metadata": {
    "collapsed": false,
    "ExecuteTime": {
     "end_time": "2023-12-05T01:13:01.939648528Z",
     "start_time": "2023-12-05T01:12:53.176229624Z"
    }
   },
   "id": "f42f920de8bcfc65"
  },
  {
   "cell_type": "markdown",
   "source": [
    "## Logistic Regression"
   ],
   "metadata": {
    "collapsed": false
   },
   "id": "fc50ff1b197de3fb"
  },
  {
   "cell_type": "code",
   "execution_count": 10,
   "outputs": [
    {
     "name": "stderr",
     "output_type": "stream",
     "text": [
      "/home/bmis/anaconda3/envs/tf/lib/python3.9/site-packages/sklearn/linear_model/_logistic.py:460: ConvergenceWarning: lbfgs failed to converge (status=1):\n",
      "STOP: TOTAL NO. of ITERATIONS REACHED LIMIT.\n",
      "\n",
      "Increase the number of iterations (max_iter) or scale the data as shown in:\n",
      "    https://scikit-learn.org/stable/modules/preprocessing.html\n",
      "Please also refer to the documentation for alternative solver options:\n",
      "    https://scikit-learn.org/stable/modules/linear_model.html#logistic-regression\n",
      "  n_iter_i = _check_optimize_result(\n",
      "/home/bmis/anaconda3/envs/tf/lib/python3.9/site-packages/sklearn/linear_model/_logistic.py:460: ConvergenceWarning: lbfgs failed to converge (status=1):\n",
      "STOP: TOTAL NO. of ITERATIONS REACHED LIMIT.\n",
      "\n",
      "Increase the number of iterations (max_iter) or scale the data as shown in:\n",
      "    https://scikit-learn.org/stable/modules/preprocessing.html\n",
      "Please also refer to the documentation for alternative solver options:\n",
      "    https://scikit-learn.org/stable/modules/linear_model.html#logistic-regression\n",
      "  n_iter_i = _check_optimize_result(\n",
      "/home/bmis/anaconda3/envs/tf/lib/python3.9/site-packages/sklearn/linear_model/_logistic.py:460: ConvergenceWarning: lbfgs failed to converge (status=1):\n",
      "STOP: TOTAL NO. of ITERATIONS REACHED LIMIT.\n",
      "\n",
      "Increase the number of iterations (max_iter) or scale the data as shown in:\n",
      "    https://scikit-learn.org/stable/modules/preprocessing.html\n",
      "Please also refer to the documentation for alternative solver options:\n",
      "    https://scikit-learn.org/stable/modules/linear_model.html#logistic-regression\n",
      "  n_iter_i = _check_optimize_result(\n",
      "/home/bmis/anaconda3/envs/tf/lib/python3.9/site-packages/sklearn/linear_model/_logistic.py:460: ConvergenceWarning: lbfgs failed to converge (status=1):\n",
      "STOP: TOTAL NO. of ITERATIONS REACHED LIMIT.\n",
      "\n",
      "Increase the number of iterations (max_iter) or scale the data as shown in:\n",
      "    https://scikit-learn.org/stable/modules/preprocessing.html\n",
      "Please also refer to the documentation for alternative solver options:\n",
      "    https://scikit-learn.org/stable/modules/linear_model.html#logistic-regression\n",
      "  n_iter_i = _check_optimize_result(\n",
      "/home/bmis/anaconda3/envs/tf/lib/python3.9/site-packages/sklearn/linear_model/_logistic.py:460: ConvergenceWarning: lbfgs failed to converge (status=1):\n",
      "STOP: TOTAL NO. of ITERATIONS REACHED LIMIT.\n",
      "\n",
      "Increase the number of iterations (max_iter) or scale the data as shown in:\n",
      "    https://scikit-learn.org/stable/modules/preprocessing.html\n",
      "Please also refer to the documentation for alternative solver options:\n",
      "    https://scikit-learn.org/stable/modules/linear_model.html#logistic-regression\n",
      "  n_iter_i = _check_optimize_result(\n",
      "/home/bmis/anaconda3/envs/tf/lib/python3.9/site-packages/sklearn/linear_model/_logistic.py:460: ConvergenceWarning: lbfgs failed to converge (status=1):\n",
      "STOP: TOTAL NO. of ITERATIONS REACHED LIMIT.\n",
      "\n",
      "Increase the number of iterations (max_iter) or scale the data as shown in:\n",
      "    https://scikit-learn.org/stable/modules/preprocessing.html\n",
      "Please also refer to the documentation for alternative solver options:\n",
      "    https://scikit-learn.org/stable/modules/linear_model.html#logistic-regression\n",
      "  n_iter_i = _check_optimize_result(\n",
      "/home/bmis/anaconda3/envs/tf/lib/python3.9/site-packages/sklearn/linear_model/_logistic.py:460: ConvergenceWarning: lbfgs failed to converge (status=1):\n",
      "STOP: TOTAL NO. of ITERATIONS REACHED LIMIT.\n",
      "\n",
      "Increase the number of iterations (max_iter) or scale the data as shown in:\n",
      "    https://scikit-learn.org/stable/modules/preprocessing.html\n",
      "Please also refer to the documentation for alternative solver options:\n",
      "    https://scikit-learn.org/stable/modules/linear_model.html#logistic-regression\n",
      "  n_iter_i = _check_optimize_result(\n",
      "/home/bmis/anaconda3/envs/tf/lib/python3.9/site-packages/sklearn/linear_model/_logistic.py:460: ConvergenceWarning: lbfgs failed to converge (status=1):\n",
      "STOP: TOTAL NO. of ITERATIONS REACHED LIMIT.\n",
      "\n",
      "Increase the number of iterations (max_iter) or scale the data as shown in:\n",
      "    https://scikit-learn.org/stable/modules/preprocessing.html\n",
      "Please also refer to the documentation for alternative solver options:\n",
      "    https://scikit-learn.org/stable/modules/linear_model.html#logistic-regression\n",
      "  n_iter_i = _check_optimize_result(\n",
      "/home/bmis/anaconda3/envs/tf/lib/python3.9/site-packages/sklearn/linear_model/_logistic.py:460: ConvergenceWarning: lbfgs failed to converge (status=1):\n",
      "STOP: TOTAL NO. of ITERATIONS REACHED LIMIT.\n",
      "\n",
      "Increase the number of iterations (max_iter) or scale the data as shown in:\n",
      "    https://scikit-learn.org/stable/modules/preprocessing.html\n",
      "Please also refer to the documentation for alternative solver options:\n",
      "    https://scikit-learn.org/stable/modules/linear_model.html#logistic-regression\n",
      "  n_iter_i = _check_optimize_result(\n",
      "/home/bmis/anaconda3/envs/tf/lib/python3.9/site-packages/sklearn/linear_model/_logistic.py:460: ConvergenceWarning: lbfgs failed to converge (status=1):\n",
      "STOP: TOTAL NO. of ITERATIONS REACHED LIMIT.\n",
      "\n",
      "Increase the number of iterations (max_iter) or scale the data as shown in:\n",
      "    https://scikit-learn.org/stable/modules/preprocessing.html\n",
      "Please also refer to the documentation for alternative solver options:\n",
      "    https://scikit-learn.org/stable/modules/linear_model.html#logistic-regression\n",
      "  n_iter_i = _check_optimize_result(\n"
     ]
    },
    {
     "name": "stdout",
     "output_type": "stream",
     "text": [
      "Logistic Regression:\n",
      "Cross-validation scores: [0.80597015 0.8358209  0.89552239 0.82089552 0.89552239 0.8358209\n",
      " 0.81818182 0.92424242 0.83333333 0.83333333]\n",
      "Mean accuracy: 0.849864314789688\n"
     ]
    },
    {
     "name": "stderr",
     "output_type": "stream",
     "text": [
      "/home/bmis/anaconda3/envs/tf/lib/python3.9/site-packages/sklearn/linear_model/_logistic.py:460: ConvergenceWarning: lbfgs failed to converge (status=1):\n",
      "STOP: TOTAL NO. of ITERATIONS REACHED LIMIT.\n",
      "\n",
      "Increase the number of iterations (max_iter) or scale the data as shown in:\n",
      "    https://scikit-learn.org/stable/modules/preprocessing.html\n",
      "Please also refer to the documentation for alternative solver options:\n",
      "    https://scikit-learn.org/stable/modules/linear_model.html#logistic-regression\n",
      "  n_iter_i = _check_optimize_result(\n",
      "/home/bmis/anaconda3/envs/tf/lib/python3.9/site-packages/sklearn/linear_model/_logistic.py:460: ConvergenceWarning: lbfgs failed to converge (status=1):\n",
      "STOP: TOTAL NO. of ITERATIONS REACHED LIMIT.\n",
      "\n",
      "Increase the number of iterations (max_iter) or scale the data as shown in:\n",
      "    https://scikit-learn.org/stable/modules/preprocessing.html\n",
      "Please also refer to the documentation for alternative solver options:\n",
      "    https://scikit-learn.org/stable/modules/linear_model.html#logistic-regression\n",
      "  n_iter_i = _check_optimize_result(\n",
      "/home/bmis/anaconda3/envs/tf/lib/python3.9/site-packages/sklearn/linear_model/_logistic.py:460: ConvergenceWarning: lbfgs failed to converge (status=1):\n",
      "STOP: TOTAL NO. of ITERATIONS REACHED LIMIT.\n",
      "\n",
      "Increase the number of iterations (max_iter) or scale the data as shown in:\n",
      "    https://scikit-learn.org/stable/modules/preprocessing.html\n",
      "Please also refer to the documentation for alternative solver options:\n",
      "    https://scikit-learn.org/stable/modules/linear_model.html#logistic-regression\n",
      "  n_iter_i = _check_optimize_result(\n",
      "/home/bmis/anaconda3/envs/tf/lib/python3.9/site-packages/sklearn/linear_model/_logistic.py:460: ConvergenceWarning: lbfgs failed to converge (status=1):\n",
      "STOP: TOTAL NO. of ITERATIONS REACHED LIMIT.\n",
      "\n",
      "Increase the number of iterations (max_iter) or scale the data as shown in:\n",
      "    https://scikit-learn.org/stable/modules/preprocessing.html\n",
      "Please also refer to the documentation for alternative solver options:\n",
      "    https://scikit-learn.org/stable/modules/linear_model.html#logistic-regression\n",
      "  n_iter_i = _check_optimize_result(\n",
      "/home/bmis/anaconda3/envs/tf/lib/python3.9/site-packages/sklearn/linear_model/_logistic.py:460: ConvergenceWarning: lbfgs failed to converge (status=1):\n",
      "STOP: TOTAL NO. of ITERATIONS REACHED LIMIT.\n",
      "\n",
      "Increase the number of iterations (max_iter) or scale the data as shown in:\n",
      "    https://scikit-learn.org/stable/modules/preprocessing.html\n",
      "Please also refer to the documentation for alternative solver options:\n",
      "    https://scikit-learn.org/stable/modules/linear_model.html#logistic-regression\n",
      "  n_iter_i = _check_optimize_result(\n",
      "/home/bmis/anaconda3/envs/tf/lib/python3.9/site-packages/sklearn/linear_model/_logistic.py:460: ConvergenceWarning: lbfgs failed to converge (status=1):\n",
      "STOP: TOTAL NO. of ITERATIONS REACHED LIMIT.\n",
      "\n",
      "Increase the number of iterations (max_iter) or scale the data as shown in:\n",
      "    https://scikit-learn.org/stable/modules/preprocessing.html\n",
      "Please also refer to the documentation for alternative solver options:\n",
      "    https://scikit-learn.org/stable/modules/linear_model.html#logistic-regression\n",
      "  n_iter_i = _check_optimize_result(\n",
      "/home/bmis/anaconda3/envs/tf/lib/python3.9/site-packages/sklearn/linear_model/_logistic.py:460: ConvergenceWarning: lbfgs failed to converge (status=1):\n",
      "STOP: TOTAL NO. of ITERATIONS REACHED LIMIT.\n",
      "\n",
      "Increase the number of iterations (max_iter) or scale the data as shown in:\n",
      "    https://scikit-learn.org/stable/modules/preprocessing.html\n",
      "Please also refer to the documentation for alternative solver options:\n",
      "    https://scikit-learn.org/stable/modules/linear_model.html#logistic-regression\n",
      "  n_iter_i = _check_optimize_result(\n",
      "/home/bmis/anaconda3/envs/tf/lib/python3.9/site-packages/sklearn/linear_model/_logistic.py:460: ConvergenceWarning: lbfgs failed to converge (status=1):\n",
      "STOP: TOTAL NO. of ITERATIONS REACHED LIMIT.\n",
      "\n",
      "Increase the number of iterations (max_iter) or scale the data as shown in:\n",
      "    https://scikit-learn.org/stable/modules/preprocessing.html\n",
      "Please also refer to the documentation for alternative solver options:\n",
      "    https://scikit-learn.org/stable/modules/linear_model.html#logistic-regression\n",
      "  n_iter_i = _check_optimize_result(\n",
      "/home/bmis/anaconda3/envs/tf/lib/python3.9/site-packages/sklearn/linear_model/_logistic.py:460: ConvergenceWarning: lbfgs failed to converge (status=1):\n",
      "STOP: TOTAL NO. of ITERATIONS REACHED LIMIT.\n",
      "\n",
      "Increase the number of iterations (max_iter) or scale the data as shown in:\n",
      "    https://scikit-learn.org/stable/modules/preprocessing.html\n",
      "Please also refer to the documentation for alternative solver options:\n",
      "    https://scikit-learn.org/stable/modules/linear_model.html#logistic-regression\n",
      "  n_iter_i = _check_optimize_result(\n"
     ]
    },
    {
     "name": "stdout",
     "output_type": "stream",
     "text": [
      "Cross-validation scores for 2 Class LR:\n",
      "fit_time: 0.5863\n",
      "score_time: 0.0085\n",
      "test_accuracy: 0.8499\n",
      "test_precision: 0.8875\n",
      "test_recall: 0.9016\n",
      "test_f1: 0.8940\n"
     ]
    },
    {
     "name": "stderr",
     "output_type": "stream",
     "text": [
      "/home/bmis/anaconda3/envs/tf/lib/python3.9/site-packages/sklearn/linear_model/_logistic.py:460: ConvergenceWarning: lbfgs failed to converge (status=1):\n",
      "STOP: TOTAL NO. of ITERATIONS REACHED LIMIT.\n",
      "\n",
      "Increase the number of iterations (max_iter) or scale the data as shown in:\n",
      "    https://scikit-learn.org/stable/modules/preprocessing.html\n",
      "Please also refer to the documentation for alternative solver options:\n",
      "    https://scikit-learn.org/stable/modules/linear_model.html#logistic-regression\n",
      "  n_iter_i = _check_optimize_result(\n"
     ]
    }
   ],
   "source": [
    "log_reg = LogisticRegression(max_iter=1000, random_state=42)\n",
    "log_reg_cv_scores = cross_validate(log_reg, X, y, cv=10)\n",
    "\n",
    "print(\"Logistic Regression:\")\n",
    "print(f\"Cross-validation scores: {log_reg_cv_scores['test_score']}\")\n",
    "print(f\"Mean accuracy: {log_reg_cv_scores['test_score'].mean()}\\n\")\n",
    "\n",
    "scores = cross_validate(log_reg, X, y, cv=10, scoring=scorers)\n",
    "print(\"Cross-validation scores for 2 Class LR:\")\n",
    "for metric_name, result in scores.items():\n",
    "    print(f\"{metric_name}: {result.mean():.4f}\")"
   ],
   "metadata": {
    "collapsed": false,
    "ExecuteTime": {
     "end_time": "2023-12-05T01:13:13.097851211Z",
     "start_time": "2023-12-05T01:13:01.924144558Z"
    }
   },
   "id": "a89e5c88c65fa9a1"
  },
  {
   "cell_type": "markdown",
   "source": [
    "## Linear Discriminant Analysis"
   ],
   "metadata": {
    "collapsed": false
   },
   "id": "90a7fd565e322ee1"
  },
  {
   "cell_type": "code",
   "execution_count": 11,
   "outputs": [
    {
     "name": "stdout",
     "output_type": "stream",
     "text": [
      "Linear Discriminant Analysis:\n",
      "Cross-validation scores: [0.85074627 0.80597015 0.79104478 0.82089552 0.89552239 0.8358209\n",
      " 0.81818182 0.89393939 0.78787879 0.87878788]\n",
      "Mean accuracy: 0.8378787878787879\n",
      "Cross-validation scores for 2 Class LDA:\n",
      "fit_time: 0.0312\n",
      "score_time: 0.0168\n",
      "test_accuracy: 0.8379\n",
      "test_precision: 0.8708\n",
      "test_recall: 0.9059\n",
      "test_f1: 0.8868\n"
     ]
    }
   ],
   "source": [
    "lda = LinearDiscriminantAnalysis()\n",
    "lda_cv_scores = cross_validate(lda, X, y, cv=10)\n",
    "\n",
    "print(\"Linear Discriminant Analysis:\")\n",
    "print(f\"Cross-validation scores: {lda_cv_scores['test_score']}\")\n",
    "print(f\"Mean accuracy: {lda_cv_scores['test_score'].mean()}\\n\")\n",
    "\n",
    "scores = cross_validate(lda, X, y, cv=10, scoring=scorers)\n",
    "print(\"Cross-validation scores for 2 Class LDA:\")\n",
    "for metric_name, result in scores.items():\n",
    "    print(f\"{metric_name}: {result.mean():.4f}\")"
   ],
   "metadata": {
    "collapsed": false,
    "ExecuteTime": {
     "end_time": "2023-12-05T01:13:13.990647400Z",
     "start_time": "2023-12-05T01:13:13.097258367Z"
    }
   },
   "id": "54f8345f96b6a53f"
  },
  {
   "cell_type": "markdown",
   "source": [
    "## Multi-layer Perceptron"
   ],
   "metadata": {
    "collapsed": false
   },
   "id": "979cebd009638774"
  },
  {
   "cell_type": "code",
   "execution_count": 12,
   "outputs": [
    {
     "name": "stdout",
     "output_type": "stream",
     "text": [
      "Neural Network (MLPClassifier):\n",
      "Cross-validation scores: [0.92537313 0.95522388 0.92537313 0.92537313 0.91044776 0.92537313\n",
      " 0.90909091 0.84848485 0.90909091 0.89393939]\n",
      "Mean accuracy: 0.9127770239710538\n",
      "Cross-validation scores for 2 Class MLP:\n",
      "fit_time: 1.9456\n",
      "score_time: 0.0106\n",
      "test_accuracy: 0.9128\n",
      "test_precision: 0.9330\n",
      "test_recall: 0.9442\n",
      "test_f1: 0.9382\n"
     ]
    }
   ],
   "source": [
    "mlp_classifier = MLPClassifier(hidden_layer_sizes=(50, 50), max_iter=500, random_state=42)\n",
    "mlp_cv_scores = cross_validate(mlp_classifier, X, y, cv=10)\n",
    "\n",
    "print(\"Neural Network (MLPClassifier):\")\n",
    "print(f\"Cross-validation scores: {mlp_cv_scores['test_score']}\")\n",
    "print(f\"Mean accuracy: {mlp_cv_scores['test_score'].mean()}\\n\")\n",
    "\n",
    "scores = cross_validate(mlp_classifier, X, y, cv=10, scoring=scorers)\n",
    "print(\"Cross-validation scores for 2 Class MLP:\")\n",
    "for metric_name, result in scores.items():\n",
    "    print(f\"{metric_name}: {result.mean():.4f}\")"
   ],
   "metadata": {
    "collapsed": false,
    "ExecuteTime": {
     "end_time": "2023-12-05T01:13:49.841610597Z",
     "start_time": "2023-12-05T01:13:13.987959700Z"
    }
   },
   "id": "7ddb5af9aac019a1"
  },
  {
   "cell_type": "markdown",
   "source": [
    "## Support Vector Machine with RBF Kernel"
   ],
   "metadata": {
    "collapsed": false
   },
   "id": "de899c974049119a"
  },
  {
   "cell_type": "code",
   "execution_count": 13,
   "outputs": [
    {
     "name": "stdout",
     "output_type": "stream",
     "text": [
      "Support Vector Machine with RBF Kernel:\n",
      "Cross-validation scores: [0.70149254 0.70149254 0.70149254 0.70149254 0.70149254 0.70149254\n",
      " 0.71212121 0.6969697  0.6969697  0.6969697 ]\n",
      "Mean accuracy: 0.7011985526910901\n",
      "Cross-validation scores for 2 Class SVM RBF:\n",
      "fit_time: 0.0156\n",
      "score_time: 0.0066\n",
      "test_accuracy: 0.7012\n",
      "test_precision: 0.7012\n",
      "test_recall: 1.0000\n",
      "test_f1: 0.8244\n"
     ]
    }
   ],
   "source": [
    "svm_rbf = SVC(kernel='rbf', gamma='scale', random_state=42)\n",
    "svm_rbf_cv_scores = cross_validate(svm_rbf, X, y, cv=10)\n",
    "\n",
    "print(\"Support Vector Machine with RBF Kernel:\")\n",
    "print(f\"Cross-validation scores: {svm_rbf_cv_scores['test_score']}\")\n",
    "print(f\"Mean accuracy: {svm_rbf_cv_scores['test_score'].mean()}\\n\")\n",
    "\n",
    "scores = cross_validate(svm_rbf, X, y, cv=10, scoring=scorers)\n",
    "print(\"Cross-validation scores for 2 Class SVM RBF:\")\n",
    "for metric_name, result in scores.items():\n",
    "    print(f\"{metric_name}: {result.mean():.4f}\")"
   ],
   "metadata": {
    "collapsed": false,
    "ExecuteTime": {
     "end_time": "2023-12-05T01:13:50.292046106Z",
     "start_time": "2023-12-05T01:13:49.836222798Z"
    }
   },
   "id": "d3131f122c6eef02"
  },
  {
   "cell_type": "markdown",
   "source": [
    "## Support Vector Machine with Linear Kernel"
   ],
   "metadata": {
    "collapsed": false
   },
   "id": "cc6bece365e3ae6f"
  },
  {
   "cell_type": "code",
   "execution_count": 14,
   "outputs": [
    {
     "name": "stdout",
     "output_type": "stream",
     "text": [
      "Support Vector Machine with Linear Kernel:\n",
      "Cross-validation scores: [0.82089552 0.79104478 0.85074627 0.8358209  0.86567164 0.82089552\n",
      " 0.84848485 0.86363636 0.81818182 0.84848485]\n",
      "Mean accuracy: 0.836386250565355\n",
      "Cross-validation scores for 2 Class SVM Linear Kernel:\n",
      "fit_time: 2.6810\n",
      "score_time: 0.0043\n",
      "test_accuracy: 0.8364\n",
      "test_precision: 0.8908\n",
      "test_recall: 0.8759\n",
      "test_f1: 0.8825\n"
     ]
    }
   ],
   "source": [
    "svm_linear = SVC(kernel='linear', random_state=42)\n",
    "svm_linear_cv_scores = cross_validate(svm_linear, X, y, cv=10)\n",
    "\n",
    "print(\"Support Vector Machine with Linear Kernel:\")\n",
    "print(f\"Cross-validation scores: {svm_linear_cv_scores['test_score']}\")\n",
    "print(f\"Mean accuracy: {svm_linear_cv_scores['test_score'].mean()}\\n\")\n",
    "\n",
    "scores = cross_validate(svm_linear, X, y, cv=10, scoring=scorers)\n",
    "print(\"Cross-validation scores for 2 Class SVM Linear Kernel:\")\n",
    "for metric_name, result in scores.items():\n",
    "    print(f\"{metric_name}: {result.mean():.4f}\")"
   ],
   "metadata": {
    "collapsed": false,
    "ExecuteTime": {
     "end_time": "2023-12-05T01:14:44.256148886Z",
     "start_time": "2023-12-05T01:13:50.273697215Z"
    }
   },
   "id": "3494cc6681c40f49"
  },
  {
   "cell_type": "markdown",
   "source": [
    "## 3 Class Classification"
   ],
   "metadata": {
    "collapsed": false
   },
   "id": "6f58020e856f5ecb"
  },
  {
   "cell_type": "code",
   "execution_count": 15,
   "outputs": [
    {
     "name": "stderr",
     "output_type": "stream",
     "text": [
      "100%|██████████| 199/199 [00:05<00:00, 38.76it/s]\n",
      "100%|██████████| 291/291 [00:11<00:00, 25.18it/s]\n",
      "100%|██████████| 176/176 [00:04<00:00, 35.45it/s]\n"
     ]
    }
   ],
   "source": [
    "#control_data, control_labels = get_all_td_features(control_dir, 0)\n",
    "#als_with_data, als_with_labels = get_all_td_features(als_with_dir, 1)\n",
    "#als_without_data, als_without_labels = get_all_td_features(als_without_dir, 2)\n",
    "\n",
    "\n",
    "control_data, control_labels = get_MFCC_data(control_dir, 0)\n",
    "als_with_data, als_with_labels = get_MFCC_data(als_with_dir, 1)\n",
    "als_without_data, als_without_labels = get_MFCC_data(als_without_dir, 2)\n",
    "\n",
    "\n",
    "X = np.concatenate([control_data, als_with_data, als_without_data], axis=0)\n",
    "y = np.concatenate([control_labels, als_with_labels, als_without_labels], axis=0)\n",
    "X = np.array(X)\n",
    "\n",
    "\n",
    "# Data Cleaning\n",
    "\n",
    "X[X == None] = np.nan\n",
    "X = np.nan_to_num(X, nan=0.0)\n",
    "df = pd.DataFrame(X)\n",
    "df.fillna(0.0, inplace=True)\n",
    "X = df.to_numpy()\n",
    "\n",
    "X, y = shuffle(X, y, random_state=42)\n",
    "#X = X.reshape(-1,10,1)"
   ],
   "metadata": {
    "collapsed": false,
    "ExecuteTime": {
     "end_time": "2023-12-05T01:15:05.910301349Z",
     "start_time": "2023-12-05T01:14:44.240217428Z"
    }
   },
   "id": "7ab554807f5765a2"
  },
  {
   "cell_type": "code",
   "execution_count": 16,
   "outputs": [],
   "source": [
    "scorers = ['precision_weighted', 'recall_weighted', 'f1_weighted']"
   ],
   "metadata": {
    "collapsed": false,
    "ExecuteTime": {
     "end_time": "2023-12-05T01:15:05.910416900Z",
     "start_time": "2023-12-05T01:15:05.908217059Z"
    }
   },
   "id": "98ff883bb2898150"
  },
  {
   "cell_type": "markdown",
   "source": [
    "## Random Forest Classifier"
   ],
   "metadata": {
    "collapsed": false
   },
   "id": "589b67b6c8623742"
  },
  {
   "cell_type": "code",
   "execution_count": 17,
   "outputs": [
    {
     "name": "stdout",
     "output_type": "stream",
     "text": [
      "Random Forest Classifier:\n",
      "Cross-validation scores: [0.94029851 0.89552239 0.91044776 0.82089552 0.8358209  0.82089552\n",
      " 0.84848485 0.8030303  0.75757576 0.87878788]\n",
      "Mean accuracy: 0.8511759384893713\n",
      "Cross-validation scores for 3 Class RF:\n",
      "fit_time: 0.3770\n",
      "score_time: 0.0084\n",
      "test_precision_weighted: 0.8581\n",
      "test_recall_weighted: 0.8512\n",
      "test_f1_weighted: 0.8496\n"
     ]
    }
   ],
   "source": [
    "rf_classifier = RandomForestClassifier(n_estimators=100, random_state=42)\n",
    "rf_cv_scores = cross_validate(rf_classifier, X, y, cv=10)\n",
    "\n",
    "print(\"Random Forest Classifier:\")\n",
    "print(f\"Cross-validation scores: {rf_cv_scores['test_score']}\")\n",
    "print(f\"Mean accuracy: {rf_cv_scores['test_score'].mean()}\\n\")\n",
    "\n",
    "scores = cross_validate(rf_classifier, X, y, cv=10, scoring=scorers)\n",
    "print(\"Cross-validation scores for 3 Class RF:\")\n",
    "for metric_name, result in scores.items():\n",
    "    print(f\"{metric_name}: {result.mean():.4f}\")"
   ],
   "metadata": {
    "collapsed": false,
    "ExecuteTime": {
     "end_time": "2023-12-05T01:15:14.020009265Z",
     "start_time": "2023-12-05T01:15:05.952120801Z"
    }
   },
   "id": "13641e3efdd089c1"
  },
  {
   "cell_type": "markdown",
   "source": [
    "## Logistic Regression"
   ],
   "metadata": {
    "collapsed": false
   },
   "id": "8dc9c7591e4ccead"
  },
  {
   "cell_type": "code",
   "execution_count": 18,
   "outputs": [
    {
     "name": "stderr",
     "output_type": "stream",
     "text": [
      "/home/bmis/anaconda3/envs/tf/lib/python3.9/site-packages/sklearn/linear_model/_logistic.py:460: ConvergenceWarning: lbfgs failed to converge (status=1):\n",
      "STOP: TOTAL NO. of ITERATIONS REACHED LIMIT.\n",
      "\n",
      "Increase the number of iterations (max_iter) or scale the data as shown in:\n",
      "    https://scikit-learn.org/stable/modules/preprocessing.html\n",
      "Please also refer to the documentation for alternative solver options:\n",
      "    https://scikit-learn.org/stable/modules/linear_model.html#logistic-regression\n",
      "  n_iter_i = _check_optimize_result(\n",
      "/home/bmis/anaconda3/envs/tf/lib/python3.9/site-packages/sklearn/linear_model/_logistic.py:460: ConvergenceWarning: lbfgs failed to converge (status=1):\n",
      "STOP: TOTAL NO. of ITERATIONS REACHED LIMIT.\n",
      "\n",
      "Increase the number of iterations (max_iter) or scale the data as shown in:\n",
      "    https://scikit-learn.org/stable/modules/preprocessing.html\n",
      "Please also refer to the documentation for alternative solver options:\n",
      "    https://scikit-learn.org/stable/modules/linear_model.html#logistic-regression\n",
      "  n_iter_i = _check_optimize_result(\n",
      "/home/bmis/anaconda3/envs/tf/lib/python3.9/site-packages/sklearn/linear_model/_logistic.py:460: ConvergenceWarning: lbfgs failed to converge (status=1):\n",
      "STOP: TOTAL NO. of ITERATIONS REACHED LIMIT.\n",
      "\n",
      "Increase the number of iterations (max_iter) or scale the data as shown in:\n",
      "    https://scikit-learn.org/stable/modules/preprocessing.html\n",
      "Please also refer to the documentation for alternative solver options:\n",
      "    https://scikit-learn.org/stable/modules/linear_model.html#logistic-regression\n",
      "  n_iter_i = _check_optimize_result(\n",
      "/home/bmis/anaconda3/envs/tf/lib/python3.9/site-packages/sklearn/linear_model/_logistic.py:460: ConvergenceWarning: lbfgs failed to converge (status=1):\n",
      "STOP: TOTAL NO. of ITERATIONS REACHED LIMIT.\n",
      "\n",
      "Increase the number of iterations (max_iter) or scale the data as shown in:\n",
      "    https://scikit-learn.org/stable/modules/preprocessing.html\n",
      "Please also refer to the documentation for alternative solver options:\n",
      "    https://scikit-learn.org/stable/modules/linear_model.html#logistic-regression\n",
      "  n_iter_i = _check_optimize_result(\n",
      "/home/bmis/anaconda3/envs/tf/lib/python3.9/site-packages/sklearn/linear_model/_logistic.py:460: ConvergenceWarning: lbfgs failed to converge (status=1):\n",
      "STOP: TOTAL NO. of ITERATIONS REACHED LIMIT.\n",
      "\n",
      "Increase the number of iterations (max_iter) or scale the data as shown in:\n",
      "    https://scikit-learn.org/stable/modules/preprocessing.html\n",
      "Please also refer to the documentation for alternative solver options:\n",
      "    https://scikit-learn.org/stable/modules/linear_model.html#logistic-regression\n",
      "  n_iter_i = _check_optimize_result(\n",
      "/home/bmis/anaconda3/envs/tf/lib/python3.9/site-packages/sklearn/linear_model/_logistic.py:460: ConvergenceWarning: lbfgs failed to converge (status=1):\n",
      "STOP: TOTAL NO. of ITERATIONS REACHED LIMIT.\n",
      "\n",
      "Increase the number of iterations (max_iter) or scale the data as shown in:\n",
      "    https://scikit-learn.org/stable/modules/preprocessing.html\n",
      "Please also refer to the documentation for alternative solver options:\n",
      "    https://scikit-learn.org/stable/modules/linear_model.html#logistic-regression\n",
      "  n_iter_i = _check_optimize_result(\n",
      "/home/bmis/anaconda3/envs/tf/lib/python3.9/site-packages/sklearn/linear_model/_logistic.py:460: ConvergenceWarning: lbfgs failed to converge (status=1):\n",
      "STOP: TOTAL NO. of ITERATIONS REACHED LIMIT.\n",
      "\n",
      "Increase the number of iterations (max_iter) or scale the data as shown in:\n",
      "    https://scikit-learn.org/stable/modules/preprocessing.html\n",
      "Please also refer to the documentation for alternative solver options:\n",
      "    https://scikit-learn.org/stable/modules/linear_model.html#logistic-regression\n",
      "  n_iter_i = _check_optimize_result(\n",
      "/home/bmis/anaconda3/envs/tf/lib/python3.9/site-packages/sklearn/linear_model/_logistic.py:460: ConvergenceWarning: lbfgs failed to converge (status=1):\n",
      "STOP: TOTAL NO. of ITERATIONS REACHED LIMIT.\n",
      "\n",
      "Increase the number of iterations (max_iter) or scale the data as shown in:\n",
      "    https://scikit-learn.org/stable/modules/preprocessing.html\n",
      "Please also refer to the documentation for alternative solver options:\n",
      "    https://scikit-learn.org/stable/modules/linear_model.html#logistic-regression\n",
      "  n_iter_i = _check_optimize_result(\n",
      "/home/bmis/anaconda3/envs/tf/lib/python3.9/site-packages/sklearn/linear_model/_logistic.py:460: ConvergenceWarning: lbfgs failed to converge (status=1):\n",
      "STOP: TOTAL NO. of ITERATIONS REACHED LIMIT.\n",
      "\n",
      "Increase the number of iterations (max_iter) or scale the data as shown in:\n",
      "    https://scikit-learn.org/stable/modules/preprocessing.html\n",
      "Please also refer to the documentation for alternative solver options:\n",
      "    https://scikit-learn.org/stable/modules/linear_model.html#logistic-regression\n",
      "  n_iter_i = _check_optimize_result(\n",
      "/home/bmis/anaconda3/envs/tf/lib/python3.9/site-packages/sklearn/linear_model/_logistic.py:460: ConvergenceWarning: lbfgs failed to converge (status=1):\n",
      "STOP: TOTAL NO. of ITERATIONS REACHED LIMIT.\n",
      "\n",
      "Increase the number of iterations (max_iter) or scale the data as shown in:\n",
      "    https://scikit-learn.org/stable/modules/preprocessing.html\n",
      "Please also refer to the documentation for alternative solver options:\n",
      "    https://scikit-learn.org/stable/modules/linear_model.html#logistic-regression\n",
      "  n_iter_i = _check_optimize_result(\n"
     ]
    },
    {
     "name": "stdout",
     "output_type": "stream",
     "text": [
      "Logistic Regression:\n",
      "Cross-validation scores: [0.74626866 0.80597015 0.82089552 0.80597015 0.7761194  0.80597015\n",
      " 0.84848485 0.81818182 0.72727273 0.77272727]\n",
      "Mean accuracy: 0.7927860696517414\n"
     ]
    },
    {
     "name": "stderr",
     "output_type": "stream",
     "text": [
      "/home/bmis/anaconda3/envs/tf/lib/python3.9/site-packages/sklearn/linear_model/_logistic.py:460: ConvergenceWarning: lbfgs failed to converge (status=1):\n",
      "STOP: TOTAL NO. of ITERATIONS REACHED LIMIT.\n",
      "\n",
      "Increase the number of iterations (max_iter) or scale the data as shown in:\n",
      "    https://scikit-learn.org/stable/modules/preprocessing.html\n",
      "Please also refer to the documentation for alternative solver options:\n",
      "    https://scikit-learn.org/stable/modules/linear_model.html#logistic-regression\n",
      "  n_iter_i = _check_optimize_result(\n",
      "/home/bmis/anaconda3/envs/tf/lib/python3.9/site-packages/sklearn/linear_model/_logistic.py:460: ConvergenceWarning: lbfgs failed to converge (status=1):\n",
      "STOP: TOTAL NO. of ITERATIONS REACHED LIMIT.\n",
      "\n",
      "Increase the number of iterations (max_iter) or scale the data as shown in:\n",
      "    https://scikit-learn.org/stable/modules/preprocessing.html\n",
      "Please also refer to the documentation for alternative solver options:\n",
      "    https://scikit-learn.org/stable/modules/linear_model.html#logistic-regression\n",
      "  n_iter_i = _check_optimize_result(\n",
      "/home/bmis/anaconda3/envs/tf/lib/python3.9/site-packages/sklearn/linear_model/_logistic.py:460: ConvergenceWarning: lbfgs failed to converge (status=1):\n",
      "STOP: TOTAL NO. of ITERATIONS REACHED LIMIT.\n",
      "\n",
      "Increase the number of iterations (max_iter) or scale the data as shown in:\n",
      "    https://scikit-learn.org/stable/modules/preprocessing.html\n",
      "Please also refer to the documentation for alternative solver options:\n",
      "    https://scikit-learn.org/stable/modules/linear_model.html#logistic-regression\n",
      "  n_iter_i = _check_optimize_result(\n",
      "/home/bmis/anaconda3/envs/tf/lib/python3.9/site-packages/sklearn/linear_model/_logistic.py:460: ConvergenceWarning: lbfgs failed to converge (status=1):\n",
      "STOP: TOTAL NO. of ITERATIONS REACHED LIMIT.\n",
      "\n",
      "Increase the number of iterations (max_iter) or scale the data as shown in:\n",
      "    https://scikit-learn.org/stable/modules/preprocessing.html\n",
      "Please also refer to the documentation for alternative solver options:\n",
      "    https://scikit-learn.org/stable/modules/linear_model.html#logistic-regression\n",
      "  n_iter_i = _check_optimize_result(\n",
      "/home/bmis/anaconda3/envs/tf/lib/python3.9/site-packages/sklearn/linear_model/_logistic.py:460: ConvergenceWarning: lbfgs failed to converge (status=1):\n",
      "STOP: TOTAL NO. of ITERATIONS REACHED LIMIT.\n",
      "\n",
      "Increase the number of iterations (max_iter) or scale the data as shown in:\n",
      "    https://scikit-learn.org/stable/modules/preprocessing.html\n",
      "Please also refer to the documentation for alternative solver options:\n",
      "    https://scikit-learn.org/stable/modules/linear_model.html#logistic-regression\n",
      "  n_iter_i = _check_optimize_result(\n",
      "/home/bmis/anaconda3/envs/tf/lib/python3.9/site-packages/sklearn/linear_model/_logistic.py:460: ConvergenceWarning: lbfgs failed to converge (status=1):\n",
      "STOP: TOTAL NO. of ITERATIONS REACHED LIMIT.\n",
      "\n",
      "Increase the number of iterations (max_iter) or scale the data as shown in:\n",
      "    https://scikit-learn.org/stable/modules/preprocessing.html\n",
      "Please also refer to the documentation for alternative solver options:\n",
      "    https://scikit-learn.org/stable/modules/linear_model.html#logistic-regression\n",
      "  n_iter_i = _check_optimize_result(\n",
      "/home/bmis/anaconda3/envs/tf/lib/python3.9/site-packages/sklearn/linear_model/_logistic.py:460: ConvergenceWarning: lbfgs failed to converge (status=1):\n",
      "STOP: TOTAL NO. of ITERATIONS REACHED LIMIT.\n",
      "\n",
      "Increase the number of iterations (max_iter) or scale the data as shown in:\n",
      "    https://scikit-learn.org/stable/modules/preprocessing.html\n",
      "Please also refer to the documentation for alternative solver options:\n",
      "    https://scikit-learn.org/stable/modules/linear_model.html#logistic-regression\n",
      "  n_iter_i = _check_optimize_result(\n",
      "/home/bmis/anaconda3/envs/tf/lib/python3.9/site-packages/sklearn/linear_model/_logistic.py:460: ConvergenceWarning: lbfgs failed to converge (status=1):\n",
      "STOP: TOTAL NO. of ITERATIONS REACHED LIMIT.\n",
      "\n",
      "Increase the number of iterations (max_iter) or scale the data as shown in:\n",
      "    https://scikit-learn.org/stable/modules/preprocessing.html\n",
      "Please also refer to the documentation for alternative solver options:\n",
      "    https://scikit-learn.org/stable/modules/linear_model.html#logistic-regression\n",
      "  n_iter_i = _check_optimize_result(\n",
      "/home/bmis/anaconda3/envs/tf/lib/python3.9/site-packages/sklearn/linear_model/_logistic.py:460: ConvergenceWarning: lbfgs failed to converge (status=1):\n",
      "STOP: TOTAL NO. of ITERATIONS REACHED LIMIT.\n",
      "\n",
      "Increase the number of iterations (max_iter) or scale the data as shown in:\n",
      "    https://scikit-learn.org/stable/modules/preprocessing.html\n",
      "Please also refer to the documentation for alternative solver options:\n",
      "    https://scikit-learn.org/stable/modules/linear_model.html#logistic-regression\n",
      "  n_iter_i = _check_optimize_result(\n"
     ]
    },
    {
     "name": "stdout",
     "output_type": "stream",
     "text": [
      "Cross-validation scores for 3 Class LR:\n",
      "fit_time: 0.3067\n",
      "score_time: 0.0035\n",
      "test_precision_weighted: 0.7979\n",
      "test_recall_weighted: 0.7928\n",
      "test_f1_weighted: 0.7918\n"
     ]
    },
    {
     "name": "stderr",
     "output_type": "stream",
     "text": [
      "/home/bmis/anaconda3/envs/tf/lib/python3.9/site-packages/sklearn/linear_model/_logistic.py:460: ConvergenceWarning: lbfgs failed to converge (status=1):\n",
      "STOP: TOTAL NO. of ITERATIONS REACHED LIMIT.\n",
      "\n",
      "Increase the number of iterations (max_iter) or scale the data as shown in:\n",
      "    https://scikit-learn.org/stable/modules/preprocessing.html\n",
      "Please also refer to the documentation for alternative solver options:\n",
      "    https://scikit-learn.org/stable/modules/linear_model.html#logistic-regression\n",
      "  n_iter_i = _check_optimize_result(\n"
     ]
    }
   ],
   "source": [
    "log_reg = LogisticRegression(max_iter=1000, random_state=42)\n",
    "log_reg_cv_scores = cross_validate(log_reg, X, y, cv=10)\n",
    "\n",
    "print(\"Logistic Regression:\")\n",
    "print(f\"Cross-validation scores: {log_reg_cv_scores['test_score']}\")\n",
    "print(f\"Mean accuracy: {log_reg_cv_scores['test_score'].mean()}\\n\")\n",
    "\n",
    "scores = cross_validate(log_reg, X, y, cv=10, scoring=scorers)\n",
    "print(\"Cross-validation scores for 3 Class LR:\")\n",
    "for metric_name, result in scores.items():\n",
    "    print(f\"{metric_name}: {result.mean():.4f}\")"
   ],
   "metadata": {
    "collapsed": false,
    "ExecuteTime": {
     "end_time": "2023-12-05T01:15:20.338092760Z",
     "start_time": "2023-12-05T01:15:14.021250402Z"
    }
   },
   "id": "884918b7b16ed29b"
  },
  {
   "cell_type": "markdown",
   "source": [
    "## Linear Discriminant Analysis"
   ],
   "metadata": {
    "collapsed": false
   },
   "id": "4dd652f8344c67e5"
  },
  {
   "cell_type": "code",
   "execution_count": 19,
   "outputs": [
    {
     "name": "stdout",
     "output_type": "stream",
     "text": [
      "Linear Discriminant Analysis:\n",
      "Cross-validation scores: [0.82089552 0.79104478 0.73134328 0.71641791 0.79104478 0.76119403\n",
      " 0.81818182 0.84848485 0.6969697  0.81818182]\n",
      "Mean accuracy: 0.7793758480325645\n",
      "Cross-validation scores for 3 Class LDA:\n",
      "fit_time: 0.0217\n",
      "score_time: 0.0073\n",
      "test_precision_weighted: 0.7869\n",
      "test_recall_weighted: 0.7794\n",
      "test_f1_weighted: 0.7771\n"
     ]
    }
   ],
   "source": [
    "lda = LinearDiscriminantAnalysis()\n",
    "lda_cv_scores = cross_validate(lda, X, y, cv=10)\n",
    "\n",
    "print(\"Linear Discriminant Analysis:\")\n",
    "print(f\"Cross-validation scores: {lda_cv_scores['test_score']}\")\n",
    "print(f\"Mean accuracy: {lda_cv_scores['test_score'].mean()}\\n\")\n",
    "\n",
    "scores = cross_validate(lda, X, y, cv=10, scoring=scorers)\n",
    "print(\"Cross-validation scores for 3 Class LDA:\")\n",
    "for metric_name, result in scores.items():\n",
    "    print(f\"{metric_name}: {result.mean():.4f}\")"
   ],
   "metadata": {
    "collapsed": false,
    "ExecuteTime": {
     "end_time": "2023-12-05T01:15:20.798572456Z",
     "start_time": "2023-12-05T01:15:20.338014604Z"
    }
   },
   "id": "1c8c551dd58d3e71"
  },
  {
   "cell_type": "markdown",
   "source": [
    "## Multi-layer Perceptron"
   ],
   "metadata": {
    "collapsed": false
   },
   "id": "bbff03d16988e694"
  },
  {
   "cell_type": "code",
   "execution_count": 20,
   "outputs": [
    {
     "name": "stdout",
     "output_type": "stream",
     "text": [
      "Neural Network (MLPClassifier):\n",
      "Cross-validation scores: [0.86567164 0.95522388 0.89552239 0.86567164 0.8358209  0.86567164\n",
      " 0.95454545 0.81818182 0.83333333 0.81818182]\n",
      "Mean accuracy: 0.8707824513794662\n",
      "Cross-validation scores for 3 Class MLP:\n",
      "fit_time: 2.4773\n",
      "score_time: 0.0077\n",
      "test_precision_weighted: 0.8745\n",
      "test_recall_weighted: 0.8708\n",
      "test_f1_weighted: 0.8703\n"
     ]
    }
   ],
   "source": [
    "mlp_classifier = MLPClassifier(hidden_layer_sizes=(50, 50), max_iter=500, random_state=42)\n",
    "mlp_cv_scores = cross_validate(mlp_classifier, X, y, cv=10)\n",
    "\n",
    "print(\"Neural Network (MLPClassifier):\")\n",
    "print(f\"Cross-validation scores: {mlp_cv_scores['test_score']}\")\n",
    "print(f\"Mean accuracy: {mlp_cv_scores['test_score'].mean()}\\n\")\n",
    "\n",
    "scores = cross_validate(mlp_classifier, X, y, cv=10, scoring=scorers)\n",
    "print(\"Cross-validation scores for 3 Class MLP:\")\n",
    "for metric_name, result in scores.items():\n",
    "    print(f\"{metric_name}: {result.mean():.4f}\")"
   ],
   "metadata": {
    "collapsed": false,
    "ExecuteTime": {
     "end_time": "2023-12-05T01:16:09.166517267Z",
     "start_time": "2023-12-05T01:15:20.796746629Z"
    }
   },
   "id": "3881a2730e7c4123"
  },
  {
   "cell_type": "markdown",
   "source": [
    "## Support Vector Machine with RBF Kernel"
   ],
   "metadata": {
    "collapsed": false
   },
   "id": "5d9c3bf866769334"
  },
  {
   "cell_type": "code",
   "execution_count": 21,
   "outputs": [
    {
     "name": "stdout",
     "output_type": "stream",
     "text": [
      "Support Vector Machine with RBF Kernel:\n",
      "Cross-validation scores: [0.49253731 0.49253731 0.44776119 0.46268657 0.41791045 0.43283582\n",
      " 0.43939394 0.48484848 0.45454545 0.45454545]\n",
      "Mean accuracy: 0.4579601990049751\n"
     ]
    },
    {
     "name": "stderr",
     "output_type": "stream",
     "text": [
      "/home/bmis/anaconda3/envs/tf/lib/python3.9/site-packages/sklearn/metrics/_classification.py:1469: UndefinedMetricWarning: Precision is ill-defined and being set to 0.0 in labels with no predicted samples. Use `zero_division` parameter to control this behavior.\n",
      "  _warn_prf(average, modifier, msg_start, len(result))\n",
      "/home/bmis/anaconda3/envs/tf/lib/python3.9/site-packages/sklearn/metrics/_classification.py:1469: UndefinedMetricWarning: Precision is ill-defined and being set to 0.0 in labels with no predicted samples. Use `zero_division` parameter to control this behavior.\n",
      "  _warn_prf(average, modifier, msg_start, len(result))\n",
      "/home/bmis/anaconda3/envs/tf/lib/python3.9/site-packages/sklearn/metrics/_classification.py:1469: UndefinedMetricWarning: Precision is ill-defined and being set to 0.0 in labels with no predicted samples. Use `zero_division` parameter to control this behavior.\n",
      "  _warn_prf(average, modifier, msg_start, len(result))\n",
      "/home/bmis/anaconda3/envs/tf/lib/python3.9/site-packages/sklearn/metrics/_classification.py:1469: UndefinedMetricWarning: Precision is ill-defined and being set to 0.0 in labels with no predicted samples. Use `zero_division` parameter to control this behavior.\n",
      "  _warn_prf(average, modifier, msg_start, len(result))\n",
      "/home/bmis/anaconda3/envs/tf/lib/python3.9/site-packages/sklearn/metrics/_classification.py:1469: UndefinedMetricWarning: Precision is ill-defined and being set to 0.0 in labels with no predicted samples. Use `zero_division` parameter to control this behavior.\n",
      "  _warn_prf(average, modifier, msg_start, len(result))\n",
      "/home/bmis/anaconda3/envs/tf/lib/python3.9/site-packages/sklearn/metrics/_classification.py:1469: UndefinedMetricWarning: Precision is ill-defined and being set to 0.0 in labels with no predicted samples. Use `zero_division` parameter to control this behavior.\n",
      "  _warn_prf(average, modifier, msg_start, len(result))\n",
      "/home/bmis/anaconda3/envs/tf/lib/python3.9/site-packages/sklearn/metrics/_classification.py:1469: UndefinedMetricWarning: Precision is ill-defined and being set to 0.0 in labels with no predicted samples. Use `zero_division` parameter to control this behavior.\n",
      "  _warn_prf(average, modifier, msg_start, len(result))\n",
      "/home/bmis/anaconda3/envs/tf/lib/python3.9/site-packages/sklearn/metrics/_classification.py:1469: UndefinedMetricWarning: Precision is ill-defined and being set to 0.0 in labels with no predicted samples. Use `zero_division` parameter to control this behavior.\n",
      "  _warn_prf(average, modifier, msg_start, len(result))\n"
     ]
    },
    {
     "name": "stdout",
     "output_type": "stream",
     "text": [
      "Cross-validation scores for 3 Class SVM with RBF:\n",
      "fit_time: 0.0208\n",
      "score_time: 0.0070\n",
      "test_precision_weighted: 0.3200\n",
      "test_recall_weighted: 0.4580\n",
      "test_f1_weighted: 0.3447\n"
     ]
    },
    {
     "name": "stderr",
     "output_type": "stream",
     "text": [
      "/home/bmis/anaconda3/envs/tf/lib/python3.9/site-packages/sklearn/metrics/_classification.py:1469: UndefinedMetricWarning: Precision is ill-defined and being set to 0.0 in labels with no predicted samples. Use `zero_division` parameter to control this behavior.\n",
      "  _warn_prf(average, modifier, msg_start, len(result))\n",
      "/home/bmis/anaconda3/envs/tf/lib/python3.9/site-packages/sklearn/metrics/_classification.py:1469: UndefinedMetricWarning: Precision is ill-defined and being set to 0.0 in labels with no predicted samples. Use `zero_division` parameter to control this behavior.\n",
      "  _warn_prf(average, modifier, msg_start, len(result))\n"
     ]
    }
   ],
   "source": [
    "svm_rbf = SVC(kernel='rbf', gamma='scale', random_state=42)\n",
    "svm_rbf_cv_scores = cross_validate(svm_rbf, X, y, cv=10)\n",
    "\n",
    "print(\"Support Vector Machine with RBF Kernel:\")\n",
    "print(f\"Cross-validation scores: {svm_rbf_cv_scores['test_score']}\")\n",
    "print(f\"Mean accuracy: {svm_rbf_cv_scores['test_score'].mean()}\\n\")\n",
    "\n",
    "scores = cross_validate(svm_rbf, X, y, cv=10, scoring=scorers)\n",
    "print(\"Cross-validation scores for 3 Class SVM with RBF:\")\n",
    "for metric_name, result in scores.items():\n",
    "    print(f\"{metric_name}: {result.mean():.4f}\")"
   ],
   "metadata": {
    "collapsed": false,
    "ExecuteTime": {
     "end_time": "2023-12-05T01:16:09.709371091Z",
     "start_time": "2023-12-05T01:16:09.160207403Z"
    }
   },
   "id": "67e43d03ec8b745c"
  },
  {
   "cell_type": "markdown",
   "source": [
    "## Support Vector Machine with Linear Kernel"
   ],
   "metadata": {
    "collapsed": false
   },
   "id": "d46093655c80b582"
  },
  {
   "cell_type": "code",
   "execution_count": 22,
   "outputs": [
    {
     "name": "stdout",
     "output_type": "stream",
     "text": [
      "Support Vector Machine with Linear Kernel:\n",
      "Cross-validation scores: [0.73134328 0.68656716 0.80597015 0.7761194  0.79104478 0.71641791\n",
      " 0.84848485 0.87878788 0.6969697  0.77272727]\n",
      "Mean accuracy: 0.7704432383536861\n",
      "Cross-validation scores for 3 Class SVM with Linear Kernel:\n",
      "fit_time: 1.7603\n",
      "score_time: 0.0040\n",
      "test_precision_weighted: 0.7791\n",
      "test_recall_weighted: 0.7704\n",
      "test_f1_weighted: 0.7703\n"
     ]
    }
   ],
   "source": [
    "svm_linear = SVC(kernel='linear', random_state=42)\n",
    "svm_linear_cv_scores = cross_validate(svm_linear, X, y, cv=10)\n",
    "\n",
    "print(\"Support Vector Machine with Linear Kernel:\")\n",
    "print(f\"Cross-validation scores: {svm_linear_cv_scores['test_score']}\")\n",
    "print(f\"Mean accuracy: {svm_linear_cv_scores['test_score'].mean()}\\n\")\n",
    "\n",
    "scores = cross_validate(svm_linear, X, y, cv=10, scoring=scorers)\n",
    "print(\"Cross-validation scores for 3 Class SVM with Linear Kernel:\")\n",
    "for metric_name, result in scores.items():\n",
    "    print(f\"{metric_name}: {result.mean():.4f}\")"
   ],
   "metadata": {
    "collapsed": false,
    "ExecuteTime": {
     "end_time": "2023-12-05T01:16:45.132262256Z",
     "start_time": "2023-12-05T01:16:09.709850966Z"
    }
   },
   "id": "f2732626ac1b0563"
  }
 ],
 "metadata": {
  "kernelspec": {
   "name": "tf",
   "language": "python",
   "display_name": "tf"
  },
  "language_info": {
   "codemirror_mode": {
    "name": "ipython",
    "version": 2
   },
   "file_extension": ".py",
   "mimetype": "text/x-python",
   "name": "python",
   "nbconvert_exporter": "python",
   "pygments_lexer": "ipython2",
   "version": "2.7.6"
  }
 },
 "nbformat": 4,
 "nbformat_minor": 5
}
